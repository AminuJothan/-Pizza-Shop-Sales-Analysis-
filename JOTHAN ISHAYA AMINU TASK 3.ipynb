{
 "cells": [
  {
   "cell_type": "markdown",
   "id": "8c30406b",
   "metadata": {},
   "source": [
    "#### LOADING DATA"
   ]
  },
  {
   "cell_type": "code",
   "execution_count": 4,
   "id": "1e17e058",
   "metadata": {},
   "outputs": [],
   "source": [
    "import pandas as pd\n",
    "import glob\n",
    "import matplotlib.pyplot as plt\n",
    "import seaborn as sns\n",
    "sns.set()"
   ]
  },
  {
   "cell_type": "code",
   "execution_count": 5,
   "id": "af6cf050",
   "metadata": {},
   "outputs": [
    {
     "data": {
      "text/plain": [
       "[]"
      ]
     },
     "execution_count": 5,
     "metadata": {},
     "output_type": "execute_result"
    }
   ],
   "source": [
    "all_files=glob.glob('C:/Users/cruz/Desktop/PIZZA PLACE SALES.csv')\n",
    "all_files\n",
    "\n"
   ]
  },
  {
   "cell_type": "code",
   "execution_count": 6,
   "id": "a4853cf6",
   "metadata": {},
   "outputs": [
    {
     "data": {
      "application/vnd.microsoft.datawrangler.viewer.v0+json": {
       "columns": [
        {
         "name": "index",
         "rawType": "int64",
         "type": "integer"
        },
        {
         "name": "order_details_id",
         "rawType": "int64",
         "type": "integer"
        },
        {
         "name": "order_id",
         "rawType": "int64",
         "type": "integer"
        },
        {
         "name": "pizza_id",
         "rawType": "object",
         "type": "string"
        },
        {
         "name": "quantity",
         "rawType": "int64",
         "type": "integer"
        }
       ],
       "conversionMethod": "pd.DataFrame",
       "ref": "cf734af3-7213-4b61-8ea1-d9a3cea34322",
       "rows": [
        [
         "0",
         "1",
         "1",
         "hawaiian_m",
         "1"
        ],
        [
         "1",
         "2",
         "2",
         "classic_dlx_m",
         "1"
        ],
        [
         "2",
         "3",
         "2",
         "five_cheese_l",
         "1"
        ],
        [
         "3",
         "4",
         "2",
         "ital_supr_l",
         "1"
        ],
        [
         "4",
         "5",
         "2",
         "mexicana_m",
         "1"
        ],
        [
         "5",
         "6",
         "2",
         "thai_ckn_l",
         "1"
        ],
        [
         "6",
         "7",
         "3",
         "ital_supr_m",
         "1"
        ],
        [
         "7",
         "8",
         "3",
         "prsc_argla_l",
         "1"
        ],
        [
         "8",
         "9",
         "4",
         "ital_supr_m",
         "1"
        ],
        [
         "9",
         "10",
         "5",
         "ital_supr_m",
         "1"
        ],
        [
         "10",
         "11",
         "6",
         "bbq_ckn_s",
         "1"
        ],
        [
         "11",
         "12",
         "6",
         "the_greek_s",
         "1"
        ],
        [
         "12",
         "13",
         "7",
         "spinach_supr_s",
         "1"
        ],
        [
         "13",
         "14",
         "8",
         "spinach_supr_s",
         "1"
        ],
        [
         "14",
         "15",
         "9",
         "classic_dlx_s",
         "1"
        ],
        [
         "15",
         "16",
         "9",
         "green_garden_s",
         "1"
        ],
        [
         "16",
         "17",
         "9",
         "ital_cpcllo_l",
         "1"
        ],
        [
         "17",
         "18",
         "9",
         "ital_supr_l",
         "1"
        ],
        [
         "18",
         "19",
         "9",
         "ital_supr_s",
         "1"
        ],
        [
         "19",
         "20",
         "9",
         "mexicana_s",
         "1"
        ],
        [
         "20",
         "21",
         "9",
         "spicy_ital_l",
         "1"
        ],
        [
         "21",
         "22",
         "9",
         "spin_pesto_l",
         "1"
        ],
        [
         "22",
         "23",
         "9",
         "veggie_veg_s",
         "1"
        ],
        [
         "23",
         "24",
         "10",
         "mexicana_l",
         "1"
        ],
        [
         "24",
         "25",
         "10",
         "southw_ckn_l",
         "1"
        ],
        [
         "25",
         "26",
         "11",
         "bbq_ckn_l",
         "1"
        ],
        [
         "26",
         "27",
         "11",
         "cali_ckn_l",
         "1"
        ],
        [
         "27",
         "28",
         "11",
         "cali_ckn_m",
         "1"
        ],
        [
         "28",
         "29",
         "11",
         "pepperoni_l",
         "1"
        ],
        [
         "29",
         "30",
         "12",
         "cali_ckn_l",
         "1"
        ],
        [
         "30",
         "31",
         "12",
         "cali_ckn_s",
         "1"
        ],
        [
         "31",
         "32",
         "12",
         "ckn_pesto_l",
         "1"
        ],
        [
         "32",
         "33",
         "12",
         "ital_supr_m",
         "1"
        ],
        [
         "33",
         "34",
         "13",
         "mexicana_l",
         "1"
        ],
        [
         "34",
         "35",
         "14",
         "the_greek_s",
         "1"
        ],
        [
         "35",
         "36",
         "15",
         "big_meat_s",
         "1"
        ],
        [
         "36",
         "37",
         "15",
         "five_cheese_l",
         "1"
        ],
        [
         "37",
         "38",
         "15",
         "soppressata_l",
         "1"
        ],
        [
         "38",
         "39",
         "15",
         "the_greek_s",
         "1"
        ],
        [
         "39",
         "40",
         "16",
         "four_cheese_l",
         "1"
        ],
        [
         "40",
         "41",
         "16",
         "napolitana_s",
         "1"
        ],
        [
         "41",
         "42",
         "16",
         "thai_ckn_l",
         "1"
        ],
        [
         "42",
         "43",
         "17",
         "bbq_ckn_l",
         "1"
        ],
        [
         "43",
         "44",
         "17",
         "calabrese_m",
         "1"
        ],
        [
         "44",
         "45",
         "17",
         "five_cheese_l",
         "1"
        ],
        [
         "45",
         "46",
         "17",
         "four_cheese_m",
         "1"
        ],
        [
         "46",
         "47",
         "17",
         "ital_supr_m",
         "1"
        ],
        [
         "47",
         "48",
         "17",
         "ital_veggie_s",
         "1"
        ],
        [
         "48",
         "49",
         "17",
         "mediterraneo_m",
         "2"
        ],
        [
         "49",
         "50",
         "17",
         "mexicana_l",
         "1"
        ]
       ],
       "shape": {
        "columns": 4,
        "rows": 48620
       }
      },
      "text/html": [
       "<div>\n",
       "<style scoped>\n",
       "    .dataframe tbody tr th:only-of-type {\n",
       "        vertical-align: middle;\n",
       "    }\n",
       "\n",
       "    .dataframe tbody tr th {\n",
       "        vertical-align: top;\n",
       "    }\n",
       "\n",
       "    .dataframe thead th {\n",
       "        text-align: right;\n",
       "    }\n",
       "</style>\n",
       "<table border=\"1\" class=\"dataframe\">\n",
       "  <thead>\n",
       "    <tr style=\"text-align: right;\">\n",
       "      <th></th>\n",
       "      <th>order_details_id</th>\n",
       "      <th>order_id</th>\n",
       "      <th>pizza_id</th>\n",
       "      <th>quantity</th>\n",
       "    </tr>\n",
       "  </thead>\n",
       "  <tbody>\n",
       "    <tr>\n",
       "      <th>0</th>\n",
       "      <td>1</td>\n",
       "      <td>1</td>\n",
       "      <td>hawaiian_m</td>\n",
       "      <td>1</td>\n",
       "    </tr>\n",
       "    <tr>\n",
       "      <th>1</th>\n",
       "      <td>2</td>\n",
       "      <td>2</td>\n",
       "      <td>classic_dlx_m</td>\n",
       "      <td>1</td>\n",
       "    </tr>\n",
       "    <tr>\n",
       "      <th>2</th>\n",
       "      <td>3</td>\n",
       "      <td>2</td>\n",
       "      <td>five_cheese_l</td>\n",
       "      <td>1</td>\n",
       "    </tr>\n",
       "    <tr>\n",
       "      <th>3</th>\n",
       "      <td>4</td>\n",
       "      <td>2</td>\n",
       "      <td>ital_supr_l</td>\n",
       "      <td>1</td>\n",
       "    </tr>\n",
       "    <tr>\n",
       "      <th>4</th>\n",
       "      <td>5</td>\n",
       "      <td>2</td>\n",
       "      <td>mexicana_m</td>\n",
       "      <td>1</td>\n",
       "    </tr>\n",
       "    <tr>\n",
       "      <th>...</th>\n",
       "      <td>...</td>\n",
       "      <td>...</td>\n",
       "      <td>...</td>\n",
       "      <td>...</td>\n",
       "    </tr>\n",
       "    <tr>\n",
       "      <th>48615</th>\n",
       "      <td>48616</td>\n",
       "      <td>21348</td>\n",
       "      <td>ckn_alfredo_m</td>\n",
       "      <td>1</td>\n",
       "    </tr>\n",
       "    <tr>\n",
       "      <th>48616</th>\n",
       "      <td>48617</td>\n",
       "      <td>21348</td>\n",
       "      <td>four_cheese_l</td>\n",
       "      <td>1</td>\n",
       "    </tr>\n",
       "    <tr>\n",
       "      <th>48617</th>\n",
       "      <td>48618</td>\n",
       "      <td>21348</td>\n",
       "      <td>napolitana_s</td>\n",
       "      <td>1</td>\n",
       "    </tr>\n",
       "    <tr>\n",
       "      <th>48618</th>\n",
       "      <td>48619</td>\n",
       "      <td>21349</td>\n",
       "      <td>mexicana_l</td>\n",
       "      <td>1</td>\n",
       "    </tr>\n",
       "    <tr>\n",
       "      <th>48619</th>\n",
       "      <td>48620</td>\n",
       "      <td>21350</td>\n",
       "      <td>bbq_ckn_s</td>\n",
       "      <td>1</td>\n",
       "    </tr>\n",
       "  </tbody>\n",
       "</table>\n",
       "<p>48620 rows × 4 columns</p>\n",
       "</div>"
      ],
      "text/plain": [
       "       order_details_id  order_id       pizza_id  quantity\n",
       "0                     1         1     hawaiian_m         1\n",
       "1                     2         2  classic_dlx_m         1\n",
       "2                     3         2  five_cheese_l         1\n",
       "3                     4         2    ital_supr_l         1\n",
       "4                     5         2     mexicana_m         1\n",
       "...                 ...       ...            ...       ...\n",
       "48615             48616     21348  ckn_alfredo_m         1\n",
       "48616             48617     21348  four_cheese_l         1\n",
       "48617             48618     21348   napolitana_s         1\n",
       "48618             48619     21349     mexicana_l         1\n",
       "48619             48620     21350      bbq_ckn_s         1\n",
       "\n",
       "[48620 rows x 4 columns]"
      ]
     },
     "execution_count": 6,
     "metadata": {},
     "output_type": "execute_result"
    }
   ],
   "source": [
    "Order_details=pd.read_csv('C:/Users/cruz/Desktop/PIZZA PLACE SALES/order_details.csv')\n",
    "Order_details"
   ]
  },
  {
   "cell_type": "code",
   "execution_count": 7,
   "id": "c43bcebd",
   "metadata": {},
   "outputs": [
    {
     "data": {
      "application/vnd.microsoft.datawrangler.viewer.v0+json": {
       "columns": [
        {
         "name": "index",
         "rawType": "int64",
         "type": "integer"
        },
        {
         "name": "order_id",
         "rawType": "int64",
         "type": "integer"
        },
        {
         "name": "date",
         "rawType": "object",
         "type": "string"
        },
        {
         "name": "time",
         "rawType": "object",
         "type": "string"
        }
       ],
       "conversionMethod": "pd.DataFrame",
       "ref": "a1f2bfb7-2162-4bb0-8657-7e9b8fb24173",
       "rows": [
        [
         "0",
         "1",
         "2015-01-01",
         "11:38:36"
        ],
        [
         "1",
         "2",
         "2015-01-01",
         "11:57:40"
        ],
        [
         "2",
         "3",
         "2015-01-01",
         "12:12:28"
        ],
        [
         "3",
         "4",
         "2015-01-01",
         "12:16:31"
        ],
        [
         "4",
         "5",
         "2015-01-01",
         "12:21:30"
        ],
        [
         "5",
         "6",
         "2015-01-01",
         "12:29:36"
        ],
        [
         "6",
         "7",
         "2015-01-01",
         "12:50:37"
        ],
        [
         "7",
         "8",
         "2015-01-01",
         "12:51:37"
        ],
        [
         "8",
         "9",
         "2015-01-01",
         "12:52:01"
        ],
        [
         "9",
         "10",
         "2015-01-01",
         "13:00:15"
        ],
        [
         "10",
         "11",
         "2015-01-01",
         "13:02:59"
        ],
        [
         "11",
         "12",
         "2015-01-01",
         "13:04:41"
        ],
        [
         "12",
         "13",
         "2015-01-01",
         "13:11:55"
        ],
        [
         "13",
         "14",
         "2015-01-01",
         "13:14:19"
        ],
        [
         "14",
         "15",
         "2015-01-01",
         "13:33:00"
        ],
        [
         "15",
         "16",
         "2015-01-01",
         "13:34:07"
        ],
        [
         "16",
         "17",
         "2015-01-01",
         "13:53:00"
        ],
        [
         "17",
         "18",
         "2015-01-01",
         "13:57:08"
        ],
        [
         "18",
         "19",
         "2015-01-01",
         "13:59:09"
        ],
        [
         "19",
         "20",
         "2015-01-01",
         "14:03:08"
        ],
        [
         "20",
         "21",
         "2015-01-01",
         "14:14:29"
        ],
        [
         "21",
         "22",
         "2015-01-01",
         "14:16:26"
        ],
        [
         "22",
         "23",
         "2015-01-01",
         "14:19:03"
        ],
        [
         "23",
         "24",
         "2015-01-01",
         "14:23:01"
        ],
        [
         "24",
         "25",
         "2015-01-01",
         "14:44:44"
        ],
        [
         "25",
         "26",
         "2015-01-01",
         "14:54:26"
        ],
        [
         "26",
         "27",
         "2015-01-01",
         "15:11:17"
        ],
        [
         "27",
         "28",
         "2015-01-01",
         "15:35:46"
        ],
        [
         "28",
         "29",
         "2015-01-01",
         "15:41:01"
        ],
        [
         "29",
         "30",
         "2015-01-01",
         "15:41:25"
        ],
        [
         "30",
         "31",
         "2015-01-01",
         "15:50:18"
        ],
        [
         "31",
         "32",
         "2015-01-01",
         "15:53:18"
        ],
        [
         "32",
         "33",
         "2015-01-01",
         "15:54:08"
        ],
        [
         "33",
         "34",
         "2015-01-01",
         "16:21:21"
        ],
        [
         "34",
         "35",
         "2015-01-01",
         "16:32:04"
        ],
        [
         "35",
         "36",
         "2015-01-01",
         "16:54:09"
        ],
        [
         "36",
         "37",
         "2015-01-01",
         "16:56:09"
        ],
        [
         "37",
         "38",
         "2015-01-01",
         "17:03:00"
        ],
        [
         "38",
         "39",
         "2015-01-01",
         "17:07:23"
        ],
        [
         "39",
         "40",
         "2015-01-01",
         "17:14:36"
        ],
        [
         "40",
         "41",
         "2015-01-01",
         "17:15:20"
        ],
        [
         "41",
         "42",
         "2015-01-01",
         "17:28:09"
        ],
        [
         "42",
         "43",
         "2015-01-01",
         "17:38:34"
        ],
        [
         "43",
         "44",
         "2015-01-01",
         "17:54:20"
        ],
        [
         "44",
         "45",
         "2015-01-01",
         "17:55:48"
        ],
        [
         "45",
         "46",
         "2015-01-01",
         "18:25:51"
        ],
        [
         "46",
         "47",
         "2015-01-01",
         "18:26:34"
        ],
        [
         "47",
         "48",
         "2015-01-01",
         "18:26:42"
        ],
        [
         "48",
         "49",
         "2015-01-01",
         "18:33:00"
        ],
        [
         "49",
         "50",
         "2015-01-01",
         "18:41:01"
        ]
       ],
       "shape": {
        "columns": 3,
        "rows": 21350
       }
      },
      "text/html": [
       "<div>\n",
       "<style scoped>\n",
       "    .dataframe tbody tr th:only-of-type {\n",
       "        vertical-align: middle;\n",
       "    }\n",
       "\n",
       "    .dataframe tbody tr th {\n",
       "        vertical-align: top;\n",
       "    }\n",
       "\n",
       "    .dataframe thead th {\n",
       "        text-align: right;\n",
       "    }\n",
       "</style>\n",
       "<table border=\"1\" class=\"dataframe\">\n",
       "  <thead>\n",
       "    <tr style=\"text-align: right;\">\n",
       "      <th></th>\n",
       "      <th>order_id</th>\n",
       "      <th>date</th>\n",
       "      <th>time</th>\n",
       "    </tr>\n",
       "  </thead>\n",
       "  <tbody>\n",
       "    <tr>\n",
       "      <th>0</th>\n",
       "      <td>1</td>\n",
       "      <td>2015-01-01</td>\n",
       "      <td>11:38:36</td>\n",
       "    </tr>\n",
       "    <tr>\n",
       "      <th>1</th>\n",
       "      <td>2</td>\n",
       "      <td>2015-01-01</td>\n",
       "      <td>11:57:40</td>\n",
       "    </tr>\n",
       "    <tr>\n",
       "      <th>2</th>\n",
       "      <td>3</td>\n",
       "      <td>2015-01-01</td>\n",
       "      <td>12:12:28</td>\n",
       "    </tr>\n",
       "    <tr>\n",
       "      <th>3</th>\n",
       "      <td>4</td>\n",
       "      <td>2015-01-01</td>\n",
       "      <td>12:16:31</td>\n",
       "    </tr>\n",
       "    <tr>\n",
       "      <th>4</th>\n",
       "      <td>5</td>\n",
       "      <td>2015-01-01</td>\n",
       "      <td>12:21:30</td>\n",
       "    </tr>\n",
       "    <tr>\n",
       "      <th>...</th>\n",
       "      <td>...</td>\n",
       "      <td>...</td>\n",
       "      <td>...</td>\n",
       "    </tr>\n",
       "    <tr>\n",
       "      <th>21345</th>\n",
       "      <td>21346</td>\n",
       "      <td>2015-12-31</td>\n",
       "      <td>20:51:07</td>\n",
       "    </tr>\n",
       "    <tr>\n",
       "      <th>21346</th>\n",
       "      <td>21347</td>\n",
       "      <td>2015-12-31</td>\n",
       "      <td>21:14:37</td>\n",
       "    </tr>\n",
       "    <tr>\n",
       "      <th>21347</th>\n",
       "      <td>21348</td>\n",
       "      <td>2015-12-31</td>\n",
       "      <td>21:23:10</td>\n",
       "    </tr>\n",
       "    <tr>\n",
       "      <th>21348</th>\n",
       "      <td>21349</td>\n",
       "      <td>2015-12-31</td>\n",
       "      <td>22:09:54</td>\n",
       "    </tr>\n",
       "    <tr>\n",
       "      <th>21349</th>\n",
       "      <td>21350</td>\n",
       "      <td>2015-12-31</td>\n",
       "      <td>23:02:05</td>\n",
       "    </tr>\n",
       "  </tbody>\n",
       "</table>\n",
       "<p>21350 rows × 3 columns</p>\n",
       "</div>"
      ],
      "text/plain": [
       "       order_id        date      time\n",
       "0             1  2015-01-01  11:38:36\n",
       "1             2  2015-01-01  11:57:40\n",
       "2             3  2015-01-01  12:12:28\n",
       "3             4  2015-01-01  12:16:31\n",
       "4             5  2015-01-01  12:21:30\n",
       "...         ...         ...       ...\n",
       "21345     21346  2015-12-31  20:51:07\n",
       "21346     21347  2015-12-31  21:14:37\n",
       "21347     21348  2015-12-31  21:23:10\n",
       "21348     21349  2015-12-31  22:09:54\n",
       "21349     21350  2015-12-31  23:02:05\n",
       "\n",
       "[21350 rows x 3 columns]"
      ]
     },
     "execution_count": 7,
     "metadata": {},
     "output_type": "execute_result"
    }
   ],
   "source": [
    "Orders=pd.read_csv('C:/Users/cruz/Desktop/PIZZA PLACE SALES/orders.csv')\n",
    "Orders"
   ]
  },
  {
   "cell_type": "code",
   "execution_count": 8,
   "id": "572e6d83",
   "metadata": {},
   "outputs": [
    {
     "data": {
      "application/vnd.microsoft.datawrangler.viewer.v0+json": {
       "columns": [
        {
         "name": "index",
         "rawType": "int64",
         "type": "integer"
        },
        {
         "name": "pizza_type_id",
         "rawType": "object",
         "type": "string"
        },
        {
         "name": "name",
         "rawType": "object",
         "type": "string"
        },
        {
         "name": "category",
         "rawType": "object",
         "type": "string"
        },
        {
         "name": "ingredients",
         "rawType": "object",
         "type": "string"
        }
       ],
       "conversionMethod": "pd.DataFrame",
       "ref": "89dba6aa-82b3-4126-a5e5-b79713382c40",
       "rows": [
        [
         "0",
         "bbq_ckn",
         "The Barbecue Chicken Pizza",
         "Chicken",
         "Barbecued Chicken, Red Peppers, Green Peppers, Tomatoes, Red Onions, Barbecue Sauce"
        ],
        [
         "1",
         "cali_ckn",
         "The California Chicken Pizza",
         "Chicken",
         "Chicken, Artichoke, Spinach, Garlic, Jalapeno Peppers, Fontina Cheese, Gouda Cheese"
        ],
        [
         "2",
         "ckn_alfredo",
         "The Chicken Alfredo Pizza",
         "Chicken",
         "Chicken, Red Onions, Red Peppers, Mushrooms, Asiago Cheese, Alfredo Sauce"
        ],
        [
         "3",
         "ckn_pesto",
         "The Chicken Pesto Pizza",
         "Chicken",
         "Chicken, Tomatoes, Red Peppers, Spinach, Garlic, Pesto Sauce"
        ],
        [
         "4",
         "southw_ckn",
         "The Southwest Chicken Pizza",
         "Chicken",
         "Chicken, Tomatoes, Red Peppers, Red Onions, Jalapeno Peppers, Corn, Cilantro, Chipotle Sauce"
        ],
        [
         "5",
         "thai_ckn",
         "The Thai Chicken Pizza",
         "Chicken",
         "Chicken, Pineapple, Tomatoes, Red Peppers, Thai Sweet Chilli Sauce"
        ],
        [
         "6",
         "big_meat",
         "The Big Meat Pizza",
         "Classic",
         "Bacon, Pepperoni, Italian Sausage, Chorizo Sausage"
        ],
        [
         "7",
         "classic_dlx",
         "The Classic Deluxe Pizza",
         "Classic",
         "Pepperoni, Mushrooms, Red Onions, Red Peppers, Bacon"
        ],
        [
         "8",
         "hawaiian",
         "The Hawaiian Pizza",
         "Classic",
         "Sliced Ham, Pineapple, Mozzarella Cheese"
        ],
        [
         "9",
         "ital_cpcllo",
         "The Italian Capocollo Pizza",
         "Classic",
         "Capocollo, Red Peppers, Tomatoes, Goat Cheese, Garlic, Oregano"
        ],
        [
         "10",
         "napolitana",
         "The Napolitana Pizza",
         "Classic",
         "Tomatoes, Anchovies, Green Olives, Red Onions, Garlic"
        ],
        [
         "11",
         "pep_msh_pep",
         "The Pepperoni, Mushroom, and Peppers Pizza",
         "Classic",
         "Pepperoni, Mushrooms, Green Peppers"
        ],
        [
         "12",
         "pepperoni",
         "The Pepperoni Pizza",
         "Classic",
         "Mozzarella Cheese, Pepperoni"
        ],
        [
         "13",
         "the_greek",
         "The Greek Pizza",
         "Classic",
         "Kalamata Olives, Feta Cheese, Tomatoes, Garlic, Beef Chuck Roast, Red Onions"
        ],
        [
         "14",
         "brie_carre",
         "The Brie Carre Pizza",
         "Supreme",
         "Brie Carre Cheese, Prosciutto, Caramelized Onions, Pears, Thyme, Garlic"
        ],
        [
         "15",
         "calabrese",
         "The Calabrese Pizza",
         "Supreme",
         "Nduja Salami, Pancetta, Tomatoes, Red Onions, Friggitello Peppers, Garlic"
        ],
        [
         "16",
         "ital_supr",
         "The Italian Supreme Pizza",
         "Supreme",
         "Calabrese Salami, Capocollo, Tomatoes, Red Onions, Green Olives, Garlic"
        ],
        [
         "17",
         "peppr_salami",
         "The Pepper Salami Pizza",
         "Supreme",
         "Genoa Salami, Capocollo, Pepperoni, Tomatoes, Asiago Cheese, Garlic"
        ],
        [
         "18",
         "prsc_argla",
         "The Prosciutto and Arugula Pizza",
         "Supreme",
         "Prosciutto di San Daniele, Arugula, Mozzarella Cheese"
        ],
        [
         "19",
         "sicilian",
         "The Sicilian Pizza",
         "Supreme",
         "Coarse Sicilian Salami, Tomatoes, Green Olives, Luganega Sausage, Onions, Garlic"
        ],
        [
         "20",
         "soppressata",
         "The Soppressata Pizza",
         "Supreme",
         "Soppressata Salami, Fontina Cheese, Mozzarella Cheese, Mushrooms, Garlic"
        ],
        [
         "21",
         "spicy_ital",
         "The Spicy Italian Pizza",
         "Supreme",
         "Capocollo, Tomatoes, Goat Cheese, Artichokes, Peperoncini verdi, Garlic"
        ],
        [
         "22",
         "spinach_supr",
         "The Spinach Supreme Pizza",
         "Supreme",
         "Spinach, Red Onions, Pepperoni, Tomatoes, Artichokes, Kalamata Olives, Garlic, Asiago Cheese"
        ],
        [
         "23",
         "five_cheese",
         "The Five Cheese Pizza",
         "Veggie",
         "Mozzarella Cheese, Provolone Cheese, Smoked Gouda Cheese, Romano Cheese, Blue Cheese, Garlic"
        ],
        [
         "24",
         "four_cheese",
         "The Four Cheese Pizza",
         "Veggie",
         "Ricotta Cheese, Gorgonzola Piccante Cheese, Mozzarella Cheese, Parmigiano Reggiano Cheese, Garlic"
        ],
        [
         "25",
         "green_garden",
         "The Green Garden Pizza",
         "Veggie",
         "Spinach, Mushrooms, Tomatoes, Green Olives, Feta Cheese"
        ],
        [
         "26",
         "ital_veggie",
         "The Italian Vegetables Pizza",
         "Veggie",
         "Eggplant, Artichokes, Tomatoes, Zucchini, Red Peppers, Garlic, Pesto Sauce"
        ],
        [
         "27",
         "mediterraneo",
         "The Mediterranean Pizza",
         "Veggie",
         "Spinach, Artichokes, Kalamata Olives, Sun-dried Tomatoes, Feta Cheese, Plum Tomatoes, Red Onions"
        ],
        [
         "28",
         "mexicana",
         "The Mexicana Pizza",
         "Veggie",
         "Tomatoes, Red Peppers, Jalapeno Peppers, Red Onions, Cilantro, Corn, Chipotle Sauce, Garlic"
        ],
        [
         "29",
         "spin_pesto",
         "The Spinach Pesto Pizza",
         "Veggie",
         "Spinach, Artichokes, Tomatoes, Sun-dried Tomatoes, Garlic, Pesto Sauce"
        ],
        [
         "30",
         "spinach_fet",
         "The Spinach and Feta Pizza",
         "Veggie",
         "Spinach, Mushrooms, Red Onions, Feta Cheese, Garlic"
        ],
        [
         "31",
         "veggie_veg",
         "The Vegetables + Vegetables Pizza",
         "Veggie",
         "Mushrooms, Tomatoes, Red Peppers, Green Peppers, Red Onions, Zucchini, Spinach, Garlic"
        ]
       ],
       "shape": {
        "columns": 4,
        "rows": 32
       }
      },
      "text/html": [
       "<div>\n",
       "<style scoped>\n",
       "    .dataframe tbody tr th:only-of-type {\n",
       "        vertical-align: middle;\n",
       "    }\n",
       "\n",
       "    .dataframe tbody tr th {\n",
       "        vertical-align: top;\n",
       "    }\n",
       "\n",
       "    .dataframe thead th {\n",
       "        text-align: right;\n",
       "    }\n",
       "</style>\n",
       "<table border=\"1\" class=\"dataframe\">\n",
       "  <thead>\n",
       "    <tr style=\"text-align: right;\">\n",
       "      <th></th>\n",
       "      <th>pizza_type_id</th>\n",
       "      <th>name</th>\n",
       "      <th>category</th>\n",
       "      <th>ingredients</th>\n",
       "    </tr>\n",
       "  </thead>\n",
       "  <tbody>\n",
       "    <tr>\n",
       "      <th>0</th>\n",
       "      <td>bbq_ckn</td>\n",
       "      <td>The Barbecue Chicken Pizza</td>\n",
       "      <td>Chicken</td>\n",
       "      <td>Barbecued Chicken, Red Peppers, Green Peppers,...</td>\n",
       "    </tr>\n",
       "    <tr>\n",
       "      <th>1</th>\n",
       "      <td>cali_ckn</td>\n",
       "      <td>The California Chicken Pizza</td>\n",
       "      <td>Chicken</td>\n",
       "      <td>Chicken, Artichoke, Spinach, Garlic, Jalapeno ...</td>\n",
       "    </tr>\n",
       "    <tr>\n",
       "      <th>2</th>\n",
       "      <td>ckn_alfredo</td>\n",
       "      <td>The Chicken Alfredo Pizza</td>\n",
       "      <td>Chicken</td>\n",
       "      <td>Chicken, Red Onions, Red Peppers, Mushrooms, A...</td>\n",
       "    </tr>\n",
       "    <tr>\n",
       "      <th>3</th>\n",
       "      <td>ckn_pesto</td>\n",
       "      <td>The Chicken Pesto Pizza</td>\n",
       "      <td>Chicken</td>\n",
       "      <td>Chicken, Tomatoes, Red Peppers, Spinach, Garli...</td>\n",
       "    </tr>\n",
       "    <tr>\n",
       "      <th>4</th>\n",
       "      <td>southw_ckn</td>\n",
       "      <td>The Southwest Chicken Pizza</td>\n",
       "      <td>Chicken</td>\n",
       "      <td>Chicken, Tomatoes, Red Peppers, Red Onions, Ja...</td>\n",
       "    </tr>\n",
       "    <tr>\n",
       "      <th>5</th>\n",
       "      <td>thai_ckn</td>\n",
       "      <td>The Thai Chicken Pizza</td>\n",
       "      <td>Chicken</td>\n",
       "      <td>Chicken, Pineapple, Tomatoes, Red Peppers, Tha...</td>\n",
       "    </tr>\n",
       "    <tr>\n",
       "      <th>6</th>\n",
       "      <td>big_meat</td>\n",
       "      <td>The Big Meat Pizza</td>\n",
       "      <td>Classic</td>\n",
       "      <td>Bacon, Pepperoni, Italian Sausage, Chorizo Sau...</td>\n",
       "    </tr>\n",
       "    <tr>\n",
       "      <th>7</th>\n",
       "      <td>classic_dlx</td>\n",
       "      <td>The Classic Deluxe Pizza</td>\n",
       "      <td>Classic</td>\n",
       "      <td>Pepperoni, Mushrooms, Red Onions, Red Peppers,...</td>\n",
       "    </tr>\n",
       "    <tr>\n",
       "      <th>8</th>\n",
       "      <td>hawaiian</td>\n",
       "      <td>The Hawaiian Pizza</td>\n",
       "      <td>Classic</td>\n",
       "      <td>Sliced Ham, Pineapple, Mozzarella Cheese</td>\n",
       "    </tr>\n",
       "    <tr>\n",
       "      <th>9</th>\n",
       "      <td>ital_cpcllo</td>\n",
       "      <td>The Italian Capocollo Pizza</td>\n",
       "      <td>Classic</td>\n",
       "      <td>Capocollo, Red Peppers, Tomatoes, Goat Cheese,...</td>\n",
       "    </tr>\n",
       "    <tr>\n",
       "      <th>10</th>\n",
       "      <td>napolitana</td>\n",
       "      <td>The Napolitana Pizza</td>\n",
       "      <td>Classic</td>\n",
       "      <td>Tomatoes, Anchovies, Green Olives, Red Onions,...</td>\n",
       "    </tr>\n",
       "    <tr>\n",
       "      <th>11</th>\n",
       "      <td>pep_msh_pep</td>\n",
       "      <td>The Pepperoni, Mushroom, and Peppers Pizza</td>\n",
       "      <td>Classic</td>\n",
       "      <td>Pepperoni, Mushrooms, Green Peppers</td>\n",
       "    </tr>\n",
       "    <tr>\n",
       "      <th>12</th>\n",
       "      <td>pepperoni</td>\n",
       "      <td>The Pepperoni Pizza</td>\n",
       "      <td>Classic</td>\n",
       "      <td>Mozzarella Cheese, Pepperoni</td>\n",
       "    </tr>\n",
       "    <tr>\n",
       "      <th>13</th>\n",
       "      <td>the_greek</td>\n",
       "      <td>The Greek Pizza</td>\n",
       "      <td>Classic</td>\n",
       "      <td>Kalamata Olives, Feta Cheese, Tomatoes, Garlic...</td>\n",
       "    </tr>\n",
       "    <tr>\n",
       "      <th>14</th>\n",
       "      <td>brie_carre</td>\n",
       "      <td>The Brie Carre Pizza</td>\n",
       "      <td>Supreme</td>\n",
       "      <td>Brie Carre Cheese, Prosciutto, Caramelized Oni...</td>\n",
       "    </tr>\n",
       "    <tr>\n",
       "      <th>15</th>\n",
       "      <td>calabrese</td>\n",
       "      <td>The Calabrese Pizza</td>\n",
       "      <td>Supreme</td>\n",
       "      <td>Nduja Salami, Pancetta, Tomatoes, Red Onions,...</td>\n",
       "    </tr>\n",
       "    <tr>\n",
       "      <th>16</th>\n",
       "      <td>ital_supr</td>\n",
       "      <td>The Italian Supreme Pizza</td>\n",
       "      <td>Supreme</td>\n",
       "      <td>Calabrese Salami, Capocollo, Tomatoes, Red Oni...</td>\n",
       "    </tr>\n",
       "    <tr>\n",
       "      <th>17</th>\n",
       "      <td>peppr_salami</td>\n",
       "      <td>The Pepper Salami Pizza</td>\n",
       "      <td>Supreme</td>\n",
       "      <td>Genoa Salami, Capocollo, Pepperoni, Tomatoes, ...</td>\n",
       "    </tr>\n",
       "    <tr>\n",
       "      <th>18</th>\n",
       "      <td>prsc_argla</td>\n",
       "      <td>The Prosciutto and Arugula Pizza</td>\n",
       "      <td>Supreme</td>\n",
       "      <td>Prosciutto di San Daniele, Arugula, Mozzarella...</td>\n",
       "    </tr>\n",
       "    <tr>\n",
       "      <th>19</th>\n",
       "      <td>sicilian</td>\n",
       "      <td>The Sicilian Pizza</td>\n",
       "      <td>Supreme</td>\n",
       "      <td>Coarse Sicilian Salami, Tomatoes, Green Olives...</td>\n",
       "    </tr>\n",
       "    <tr>\n",
       "      <th>20</th>\n",
       "      <td>soppressata</td>\n",
       "      <td>The Soppressata Pizza</td>\n",
       "      <td>Supreme</td>\n",
       "      <td>Soppressata Salami, Fontina Cheese, Mozzarella...</td>\n",
       "    </tr>\n",
       "    <tr>\n",
       "      <th>21</th>\n",
       "      <td>spicy_ital</td>\n",
       "      <td>The Spicy Italian Pizza</td>\n",
       "      <td>Supreme</td>\n",
       "      <td>Capocollo, Tomatoes, Goat Cheese, Artichokes, ...</td>\n",
       "    </tr>\n",
       "    <tr>\n",
       "      <th>22</th>\n",
       "      <td>spinach_supr</td>\n",
       "      <td>The Spinach Supreme Pizza</td>\n",
       "      <td>Supreme</td>\n",
       "      <td>Spinach, Red Onions, Pepperoni, Tomatoes, Arti...</td>\n",
       "    </tr>\n",
       "    <tr>\n",
       "      <th>23</th>\n",
       "      <td>five_cheese</td>\n",
       "      <td>The Five Cheese Pizza</td>\n",
       "      <td>Veggie</td>\n",
       "      <td>Mozzarella Cheese, Provolone Cheese, Smoked Go...</td>\n",
       "    </tr>\n",
       "    <tr>\n",
       "      <th>24</th>\n",
       "      <td>four_cheese</td>\n",
       "      <td>The Four Cheese Pizza</td>\n",
       "      <td>Veggie</td>\n",
       "      <td>Ricotta Cheese, Gorgonzola Piccante Cheese, Mo...</td>\n",
       "    </tr>\n",
       "    <tr>\n",
       "      <th>25</th>\n",
       "      <td>green_garden</td>\n",
       "      <td>The Green Garden Pizza</td>\n",
       "      <td>Veggie</td>\n",
       "      <td>Spinach, Mushrooms, Tomatoes, Green Olives, Fe...</td>\n",
       "    </tr>\n",
       "    <tr>\n",
       "      <th>26</th>\n",
       "      <td>ital_veggie</td>\n",
       "      <td>The Italian Vegetables Pizza</td>\n",
       "      <td>Veggie</td>\n",
       "      <td>Eggplant, Artichokes, Tomatoes, Zucchini, Red ...</td>\n",
       "    </tr>\n",
       "    <tr>\n",
       "      <th>27</th>\n",
       "      <td>mediterraneo</td>\n",
       "      <td>The Mediterranean Pizza</td>\n",
       "      <td>Veggie</td>\n",
       "      <td>Spinach, Artichokes, Kalamata Olives, Sun-drie...</td>\n",
       "    </tr>\n",
       "    <tr>\n",
       "      <th>28</th>\n",
       "      <td>mexicana</td>\n",
       "      <td>The Mexicana Pizza</td>\n",
       "      <td>Veggie</td>\n",
       "      <td>Tomatoes, Red Peppers, Jalapeno Peppers, Red O...</td>\n",
       "    </tr>\n",
       "    <tr>\n",
       "      <th>29</th>\n",
       "      <td>spin_pesto</td>\n",
       "      <td>The Spinach Pesto Pizza</td>\n",
       "      <td>Veggie</td>\n",
       "      <td>Spinach, Artichokes, Tomatoes, Sun-dried Tomat...</td>\n",
       "    </tr>\n",
       "    <tr>\n",
       "      <th>30</th>\n",
       "      <td>spinach_fet</td>\n",
       "      <td>The Spinach and Feta Pizza</td>\n",
       "      <td>Veggie</td>\n",
       "      <td>Spinach, Mushrooms, Red Onions, Feta Cheese, G...</td>\n",
       "    </tr>\n",
       "    <tr>\n",
       "      <th>31</th>\n",
       "      <td>veggie_veg</td>\n",
       "      <td>The Vegetables + Vegetables Pizza</td>\n",
       "      <td>Veggie</td>\n",
       "      <td>Mushrooms, Tomatoes, Red Peppers, Green Pepper...</td>\n",
       "    </tr>\n",
       "  </tbody>\n",
       "</table>\n",
       "</div>"
      ],
      "text/plain": [
       "   pizza_type_id                                        name category  \\\n",
       "0        bbq_ckn                  The Barbecue Chicken Pizza  Chicken   \n",
       "1       cali_ckn                The California Chicken Pizza  Chicken   \n",
       "2    ckn_alfredo                   The Chicken Alfredo Pizza  Chicken   \n",
       "3      ckn_pesto                     The Chicken Pesto Pizza  Chicken   \n",
       "4     southw_ckn                 The Southwest Chicken Pizza  Chicken   \n",
       "5       thai_ckn                      The Thai Chicken Pizza  Chicken   \n",
       "6       big_meat                          The Big Meat Pizza  Classic   \n",
       "7    classic_dlx                    The Classic Deluxe Pizza  Classic   \n",
       "8       hawaiian                          The Hawaiian Pizza  Classic   \n",
       "9    ital_cpcllo                 The Italian Capocollo Pizza  Classic   \n",
       "10    napolitana                        The Napolitana Pizza  Classic   \n",
       "11   pep_msh_pep  The Pepperoni, Mushroom, and Peppers Pizza  Classic   \n",
       "12     pepperoni                         The Pepperoni Pizza  Classic   \n",
       "13     the_greek                             The Greek Pizza  Classic   \n",
       "14    brie_carre                        The Brie Carre Pizza  Supreme   \n",
       "15     calabrese                         The Calabrese Pizza  Supreme   \n",
       "16     ital_supr                   The Italian Supreme Pizza  Supreme   \n",
       "17  peppr_salami                     The Pepper Salami Pizza  Supreme   \n",
       "18    prsc_argla            The Prosciutto and Arugula Pizza  Supreme   \n",
       "19      sicilian                          The Sicilian Pizza  Supreme   \n",
       "20   soppressata                       The Soppressata Pizza  Supreme   \n",
       "21    spicy_ital                     The Spicy Italian Pizza  Supreme   \n",
       "22  spinach_supr                   The Spinach Supreme Pizza  Supreme   \n",
       "23   five_cheese                       The Five Cheese Pizza   Veggie   \n",
       "24   four_cheese                       The Four Cheese Pizza   Veggie   \n",
       "25  green_garden                      The Green Garden Pizza   Veggie   \n",
       "26   ital_veggie                The Italian Vegetables Pizza   Veggie   \n",
       "27  mediterraneo                     The Mediterranean Pizza   Veggie   \n",
       "28      mexicana                          The Mexicana Pizza   Veggie   \n",
       "29    spin_pesto                     The Spinach Pesto Pizza   Veggie   \n",
       "30   spinach_fet                  The Spinach and Feta Pizza   Veggie   \n",
       "31    veggie_veg           The Vegetables + Vegetables Pizza   Veggie   \n",
       "\n",
       "                                          ingredients  \n",
       "0   Barbecued Chicken, Red Peppers, Green Peppers,...  \n",
       "1   Chicken, Artichoke, Spinach, Garlic, Jalapeno ...  \n",
       "2   Chicken, Red Onions, Red Peppers, Mushrooms, A...  \n",
       "3   Chicken, Tomatoes, Red Peppers, Spinach, Garli...  \n",
       "4   Chicken, Tomatoes, Red Peppers, Red Onions, Ja...  \n",
       "5   Chicken, Pineapple, Tomatoes, Red Peppers, Tha...  \n",
       "6   Bacon, Pepperoni, Italian Sausage, Chorizo Sau...  \n",
       "7   Pepperoni, Mushrooms, Red Onions, Red Peppers,...  \n",
       "8            Sliced Ham, Pineapple, Mozzarella Cheese  \n",
       "9   Capocollo, Red Peppers, Tomatoes, Goat Cheese,...  \n",
       "10  Tomatoes, Anchovies, Green Olives, Red Onions,...  \n",
       "11                Pepperoni, Mushrooms, Green Peppers  \n",
       "12                       Mozzarella Cheese, Pepperoni  \n",
       "13  Kalamata Olives, Feta Cheese, Tomatoes, Garlic...  \n",
       "14  Brie Carre Cheese, Prosciutto, Caramelized Oni...  \n",
       "15  Nduja Salami, Pancetta, Tomatoes, Red Onions,...  \n",
       "16  Calabrese Salami, Capocollo, Tomatoes, Red Oni...  \n",
       "17  Genoa Salami, Capocollo, Pepperoni, Tomatoes, ...  \n",
       "18  Prosciutto di San Daniele, Arugula, Mozzarella...  \n",
       "19  Coarse Sicilian Salami, Tomatoes, Green Olives...  \n",
       "20  Soppressata Salami, Fontina Cheese, Mozzarella...  \n",
       "21  Capocollo, Tomatoes, Goat Cheese, Artichokes, ...  \n",
       "22  Spinach, Red Onions, Pepperoni, Tomatoes, Arti...  \n",
       "23  Mozzarella Cheese, Provolone Cheese, Smoked Go...  \n",
       "24  Ricotta Cheese, Gorgonzola Piccante Cheese, Mo...  \n",
       "25  Spinach, Mushrooms, Tomatoes, Green Olives, Fe...  \n",
       "26  Eggplant, Artichokes, Tomatoes, Zucchini, Red ...  \n",
       "27  Spinach, Artichokes, Kalamata Olives, Sun-drie...  \n",
       "28  Tomatoes, Red Peppers, Jalapeno Peppers, Red O...  \n",
       "29  Spinach, Artichokes, Tomatoes, Sun-dried Tomat...  \n",
       "30  Spinach, Mushrooms, Red Onions, Feta Cheese, G...  \n",
       "31  Mushrooms, Tomatoes, Red Peppers, Green Pepper...  "
      ]
     },
     "execution_count": 8,
     "metadata": {},
     "output_type": "execute_result"
    }
   ],
   "source": [
    "Pizza_types=pd.read_csv('C:/Users/cruz/Desktop/PIZZA PLACE SALES/pizza_types.csv',encoding='latin1')\n",
    "Pizza_types"
   ]
  },
  {
   "cell_type": "code",
   "execution_count": 9,
   "id": "73d6e0b6",
   "metadata": {},
   "outputs": [
    {
     "data": {
      "application/vnd.microsoft.datawrangler.viewer.v0+json": {
       "columns": [
        {
         "name": "index",
         "rawType": "int64",
         "type": "integer"
        },
        {
         "name": "pizza_id",
         "rawType": "object",
         "type": "string"
        },
        {
         "name": "pizza_type_id",
         "rawType": "object",
         "type": "string"
        },
        {
         "name": "size",
         "rawType": "object",
         "type": "string"
        },
        {
         "name": "price",
         "rawType": "float64",
         "type": "float"
        }
       ],
       "conversionMethod": "pd.DataFrame",
       "ref": "d6bef2bf-f443-4112-88e5-3ed8791efd96",
       "rows": [
        [
         "0",
         "bbq_ckn_s",
         "bbq_ckn",
         "S",
         "12.75"
        ],
        [
         "1",
         "bbq_ckn_m",
         "bbq_ckn",
         "M",
         "16.75"
        ],
        [
         "2",
         "bbq_ckn_l",
         "bbq_ckn",
         "L",
         "20.75"
        ],
        [
         "3",
         "cali_ckn_s",
         "cali_ckn",
         "S",
         "12.75"
        ],
        [
         "4",
         "cali_ckn_m",
         "cali_ckn",
         "M",
         "16.75"
        ],
        [
         "5",
         "cali_ckn_l",
         "cali_ckn",
         "L",
         "20.75"
        ],
        [
         "6",
         "ckn_alfredo_s",
         "ckn_alfredo",
         "S",
         "12.75"
        ],
        [
         "7",
         "ckn_alfredo_m",
         "ckn_alfredo",
         "M",
         "16.75"
        ],
        [
         "8",
         "ckn_alfredo_l",
         "ckn_alfredo",
         "L",
         "20.75"
        ],
        [
         "9",
         "ckn_pesto_s",
         "ckn_pesto",
         "S",
         "12.75"
        ],
        [
         "10",
         "ckn_pesto_m",
         "ckn_pesto",
         "M",
         "16.75"
        ],
        [
         "11",
         "ckn_pesto_l",
         "ckn_pesto",
         "L",
         "20.75"
        ],
        [
         "12",
         "southw_ckn_s",
         "southw_ckn",
         "S",
         "12.75"
        ],
        [
         "13",
         "southw_ckn_m",
         "southw_ckn",
         "M",
         "16.75"
        ],
        [
         "14",
         "southw_ckn_l",
         "southw_ckn",
         "L",
         "20.75"
        ],
        [
         "15",
         "thai_ckn_s",
         "thai_ckn",
         "S",
         "12.75"
        ],
        [
         "16",
         "thai_ckn_m",
         "thai_ckn",
         "M",
         "16.75"
        ],
        [
         "17",
         "thai_ckn_l",
         "thai_ckn",
         "L",
         "20.75"
        ],
        [
         "18",
         "big_meat_s",
         "big_meat",
         "S",
         "12.0"
        ],
        [
         "19",
         "big_meat_m",
         "big_meat",
         "M",
         "16.0"
        ],
        [
         "20",
         "big_meat_l",
         "big_meat",
         "L",
         "20.5"
        ],
        [
         "21",
         "classic_dlx_s",
         "classic_dlx",
         "S",
         "12.0"
        ],
        [
         "22",
         "classic_dlx_m",
         "classic_dlx",
         "M",
         "16.0"
        ],
        [
         "23",
         "classic_dlx_l",
         "classic_dlx",
         "L",
         "20.5"
        ],
        [
         "24",
         "hawaiian_s",
         "hawaiian",
         "S",
         "10.5"
        ],
        [
         "25",
         "hawaiian_m",
         "hawaiian",
         "M",
         "13.25"
        ],
        [
         "26",
         "hawaiian_l",
         "hawaiian",
         "L",
         "16.5"
        ],
        [
         "27",
         "ital_cpcllo_s",
         "ital_cpcllo",
         "S",
         "12.0"
        ],
        [
         "28",
         "ital_cpcllo_m",
         "ital_cpcllo",
         "M",
         "16.0"
        ],
        [
         "29",
         "ital_cpcllo_l",
         "ital_cpcllo",
         "L",
         "20.5"
        ],
        [
         "30",
         "napolitana_s",
         "napolitana",
         "S",
         "12.0"
        ],
        [
         "31",
         "napolitana_m",
         "napolitana",
         "M",
         "16.0"
        ],
        [
         "32",
         "napolitana_l",
         "napolitana",
         "L",
         "20.5"
        ],
        [
         "33",
         "pep_msh_pep_s",
         "pep_msh_pep",
         "S",
         "11.0"
        ],
        [
         "34",
         "pep_msh_pep_m",
         "pep_msh_pep",
         "M",
         "14.5"
        ],
        [
         "35",
         "pep_msh_pep_l",
         "pep_msh_pep",
         "L",
         "17.5"
        ],
        [
         "36",
         "pepperoni_s",
         "pepperoni",
         "S",
         "9.75"
        ],
        [
         "37",
         "pepperoni_m",
         "pepperoni",
         "M",
         "12.5"
        ],
        [
         "38",
         "pepperoni_l",
         "pepperoni",
         "L",
         "15.25"
        ],
        [
         "39",
         "the_greek_s",
         "the_greek",
         "S",
         "12.0"
        ],
        [
         "40",
         "the_greek_m",
         "the_greek",
         "M",
         "16.0"
        ],
        [
         "41",
         "the_greek_l",
         "the_greek",
         "L",
         "20.5"
        ],
        [
         "42",
         "the_greek_xl",
         "the_greek",
         "XL",
         "25.5"
        ],
        [
         "43",
         "the_greek_xxl",
         "the_greek",
         "XXL",
         "35.95"
        ],
        [
         "44",
         "brie_carre_s",
         "brie_carre",
         "S",
         "23.65"
        ],
        [
         "45",
         "calabrese_s",
         "calabrese",
         "S",
         "12.25"
        ],
        [
         "46",
         "calabrese_m",
         "calabrese",
         "M",
         "16.25"
        ],
        [
         "47",
         "calabrese_l",
         "calabrese",
         "L",
         "20.25"
        ],
        [
         "48",
         "ital_supr_s",
         "ital_supr",
         "S",
         "12.5"
        ],
        [
         "49",
         "ital_supr_m",
         "ital_supr",
         "M",
         "16.5"
        ]
       ],
       "shape": {
        "columns": 4,
        "rows": 96
       }
      },
      "text/html": [
       "<div>\n",
       "<style scoped>\n",
       "    .dataframe tbody tr th:only-of-type {\n",
       "        vertical-align: middle;\n",
       "    }\n",
       "\n",
       "    .dataframe tbody tr th {\n",
       "        vertical-align: top;\n",
       "    }\n",
       "\n",
       "    .dataframe thead th {\n",
       "        text-align: right;\n",
       "    }\n",
       "</style>\n",
       "<table border=\"1\" class=\"dataframe\">\n",
       "  <thead>\n",
       "    <tr style=\"text-align: right;\">\n",
       "      <th></th>\n",
       "      <th>pizza_id</th>\n",
       "      <th>pizza_type_id</th>\n",
       "      <th>size</th>\n",
       "      <th>price</th>\n",
       "    </tr>\n",
       "  </thead>\n",
       "  <tbody>\n",
       "    <tr>\n",
       "      <th>0</th>\n",
       "      <td>bbq_ckn_s</td>\n",
       "      <td>bbq_ckn</td>\n",
       "      <td>S</td>\n",
       "      <td>12.75</td>\n",
       "    </tr>\n",
       "    <tr>\n",
       "      <th>1</th>\n",
       "      <td>bbq_ckn_m</td>\n",
       "      <td>bbq_ckn</td>\n",
       "      <td>M</td>\n",
       "      <td>16.75</td>\n",
       "    </tr>\n",
       "    <tr>\n",
       "      <th>2</th>\n",
       "      <td>bbq_ckn_l</td>\n",
       "      <td>bbq_ckn</td>\n",
       "      <td>L</td>\n",
       "      <td>20.75</td>\n",
       "    </tr>\n",
       "    <tr>\n",
       "      <th>3</th>\n",
       "      <td>cali_ckn_s</td>\n",
       "      <td>cali_ckn</td>\n",
       "      <td>S</td>\n",
       "      <td>12.75</td>\n",
       "    </tr>\n",
       "    <tr>\n",
       "      <th>4</th>\n",
       "      <td>cali_ckn_m</td>\n",
       "      <td>cali_ckn</td>\n",
       "      <td>M</td>\n",
       "      <td>16.75</td>\n",
       "    </tr>\n",
       "    <tr>\n",
       "      <th>...</th>\n",
       "      <td>...</td>\n",
       "      <td>...</td>\n",
       "      <td>...</td>\n",
       "      <td>...</td>\n",
       "    </tr>\n",
       "    <tr>\n",
       "      <th>91</th>\n",
       "      <td>spinach_fet_m</td>\n",
       "      <td>spinach_fet</td>\n",
       "      <td>M</td>\n",
       "      <td>16.00</td>\n",
       "    </tr>\n",
       "    <tr>\n",
       "      <th>92</th>\n",
       "      <td>spinach_fet_l</td>\n",
       "      <td>spinach_fet</td>\n",
       "      <td>L</td>\n",
       "      <td>20.25</td>\n",
       "    </tr>\n",
       "    <tr>\n",
       "      <th>93</th>\n",
       "      <td>veggie_veg_s</td>\n",
       "      <td>veggie_veg</td>\n",
       "      <td>S</td>\n",
       "      <td>12.00</td>\n",
       "    </tr>\n",
       "    <tr>\n",
       "      <th>94</th>\n",
       "      <td>veggie_veg_m</td>\n",
       "      <td>veggie_veg</td>\n",
       "      <td>M</td>\n",
       "      <td>16.00</td>\n",
       "    </tr>\n",
       "    <tr>\n",
       "      <th>95</th>\n",
       "      <td>veggie_veg_l</td>\n",
       "      <td>veggie_veg</td>\n",
       "      <td>L</td>\n",
       "      <td>20.25</td>\n",
       "    </tr>\n",
       "  </tbody>\n",
       "</table>\n",
       "<p>96 rows × 4 columns</p>\n",
       "</div>"
      ],
      "text/plain": [
       "         pizza_id pizza_type_id size  price\n",
       "0       bbq_ckn_s       bbq_ckn    S  12.75\n",
       "1       bbq_ckn_m       bbq_ckn    M  16.75\n",
       "2       bbq_ckn_l       bbq_ckn    L  20.75\n",
       "3      cali_ckn_s      cali_ckn    S  12.75\n",
       "4      cali_ckn_m      cali_ckn    M  16.75\n",
       "..            ...           ...  ...    ...\n",
       "91  spinach_fet_m   spinach_fet    M  16.00\n",
       "92  spinach_fet_l   spinach_fet    L  20.25\n",
       "93   veggie_veg_s    veggie_veg    S  12.00\n",
       "94   veggie_veg_m    veggie_veg    M  16.00\n",
       "95   veggie_veg_l    veggie_veg    L  20.25\n",
       "\n",
       "[96 rows x 4 columns]"
      ]
     },
     "execution_count": 9,
     "metadata": {},
     "output_type": "execute_result"
    }
   ],
   "source": [
    "Pizza=pd.read_csv('C:/Users/cruz/Desktop/PIZZA PLACE SALES/pizzas.csv')\n",
    "Pizza"
   ]
  },
  {
   "cell_type": "markdown",
   "id": "49db26b7",
   "metadata": {},
   "source": [
    "### DATA ANALYSIS AND VIZUALIZATION "
   ]
  },
  {
   "cell_type": "markdown",
   "id": "43a633f9",
   "metadata": {},
   "source": [
    "**MERGING ORDER DETAILS AND ORDER BASED ON THE COMMON COLUMN (ORDER_ID)**"
   ]
  },
  {
   "cell_type": "code",
   "execution_count": 10,
   "id": "97b27105",
   "metadata": {},
   "outputs": [
    {
     "data": {
      "application/vnd.microsoft.datawrangler.viewer.v0+json": {
       "columns": [
        {
         "name": "index",
         "rawType": "int64",
         "type": "integer"
        },
        {
         "name": "order_id",
         "rawType": "int64",
         "type": "integer"
        },
        {
         "name": "date",
         "rawType": "object",
         "type": "string"
        },
        {
         "name": "time",
         "rawType": "object",
         "type": "string"
        },
        {
         "name": "order_details_id",
         "rawType": "int64",
         "type": "integer"
        },
        {
         "name": "pizza_id",
         "rawType": "object",
         "type": "string"
        },
        {
         "name": "quantity",
         "rawType": "int64",
         "type": "integer"
        }
       ],
       "conversionMethod": "pd.DataFrame",
       "ref": "330c78a2-b5b4-4978-933f-66eb6539de93",
       "rows": [
        [
         "0",
         "1",
         "2015-01-01",
         "11:38:36",
         "1",
         "hawaiian_m",
         "1"
        ],
        [
         "1",
         "2",
         "2015-01-01",
         "11:57:40",
         "2",
         "classic_dlx_m",
         "1"
        ],
        [
         "2",
         "2",
         "2015-01-01",
         "11:57:40",
         "3",
         "five_cheese_l",
         "1"
        ],
        [
         "3",
         "2",
         "2015-01-01",
         "11:57:40",
         "4",
         "ital_supr_l",
         "1"
        ],
        [
         "4",
         "2",
         "2015-01-01",
         "11:57:40",
         "5",
         "mexicana_m",
         "1"
        ],
        [
         "5",
         "2",
         "2015-01-01",
         "11:57:40",
         "6",
         "thai_ckn_l",
         "1"
        ],
        [
         "6",
         "3",
         "2015-01-01",
         "12:12:28",
         "7",
         "ital_supr_m",
         "1"
        ],
        [
         "7",
         "3",
         "2015-01-01",
         "12:12:28",
         "8",
         "prsc_argla_l",
         "1"
        ],
        [
         "8",
         "4",
         "2015-01-01",
         "12:16:31",
         "9",
         "ital_supr_m",
         "1"
        ],
        [
         "9",
         "5",
         "2015-01-01",
         "12:21:30",
         "10",
         "ital_supr_m",
         "1"
        ],
        [
         "10",
         "6",
         "2015-01-01",
         "12:29:36",
         "11",
         "bbq_ckn_s",
         "1"
        ],
        [
         "11",
         "6",
         "2015-01-01",
         "12:29:36",
         "12",
         "the_greek_s",
         "1"
        ],
        [
         "12",
         "7",
         "2015-01-01",
         "12:50:37",
         "13",
         "spinach_supr_s",
         "1"
        ],
        [
         "13",
         "8",
         "2015-01-01",
         "12:51:37",
         "14",
         "spinach_supr_s",
         "1"
        ],
        [
         "14",
         "9",
         "2015-01-01",
         "12:52:01",
         "15",
         "classic_dlx_s",
         "1"
        ],
        [
         "15",
         "9",
         "2015-01-01",
         "12:52:01",
         "16",
         "green_garden_s",
         "1"
        ],
        [
         "16",
         "9",
         "2015-01-01",
         "12:52:01",
         "17",
         "ital_cpcllo_l",
         "1"
        ],
        [
         "17",
         "9",
         "2015-01-01",
         "12:52:01",
         "18",
         "ital_supr_l",
         "1"
        ],
        [
         "18",
         "9",
         "2015-01-01",
         "12:52:01",
         "19",
         "ital_supr_s",
         "1"
        ],
        [
         "19",
         "9",
         "2015-01-01",
         "12:52:01",
         "20",
         "mexicana_s",
         "1"
        ],
        [
         "20",
         "9",
         "2015-01-01",
         "12:52:01",
         "21",
         "spicy_ital_l",
         "1"
        ],
        [
         "21",
         "9",
         "2015-01-01",
         "12:52:01",
         "22",
         "spin_pesto_l",
         "1"
        ],
        [
         "22",
         "9",
         "2015-01-01",
         "12:52:01",
         "23",
         "veggie_veg_s",
         "1"
        ],
        [
         "23",
         "10",
         "2015-01-01",
         "13:00:15",
         "24",
         "mexicana_l",
         "1"
        ],
        [
         "24",
         "10",
         "2015-01-01",
         "13:00:15",
         "25",
         "southw_ckn_l",
         "1"
        ],
        [
         "25",
         "11",
         "2015-01-01",
         "13:02:59",
         "26",
         "bbq_ckn_l",
         "1"
        ],
        [
         "26",
         "11",
         "2015-01-01",
         "13:02:59",
         "27",
         "cali_ckn_l",
         "1"
        ],
        [
         "27",
         "11",
         "2015-01-01",
         "13:02:59",
         "28",
         "cali_ckn_m",
         "1"
        ],
        [
         "28",
         "11",
         "2015-01-01",
         "13:02:59",
         "29",
         "pepperoni_l",
         "1"
        ],
        [
         "29",
         "12",
         "2015-01-01",
         "13:04:41",
         "30",
         "cali_ckn_l",
         "1"
        ],
        [
         "30",
         "12",
         "2015-01-01",
         "13:04:41",
         "31",
         "cali_ckn_s",
         "1"
        ],
        [
         "31",
         "12",
         "2015-01-01",
         "13:04:41",
         "32",
         "ckn_pesto_l",
         "1"
        ],
        [
         "32",
         "12",
         "2015-01-01",
         "13:04:41",
         "33",
         "ital_supr_m",
         "1"
        ],
        [
         "33",
         "13",
         "2015-01-01",
         "13:11:55",
         "34",
         "mexicana_l",
         "1"
        ],
        [
         "34",
         "14",
         "2015-01-01",
         "13:14:19",
         "35",
         "the_greek_s",
         "1"
        ],
        [
         "35",
         "15",
         "2015-01-01",
         "13:33:00",
         "36",
         "big_meat_s",
         "1"
        ],
        [
         "36",
         "15",
         "2015-01-01",
         "13:33:00",
         "37",
         "five_cheese_l",
         "1"
        ],
        [
         "37",
         "15",
         "2015-01-01",
         "13:33:00",
         "38",
         "soppressata_l",
         "1"
        ],
        [
         "38",
         "15",
         "2015-01-01",
         "13:33:00",
         "39",
         "the_greek_s",
         "1"
        ],
        [
         "39",
         "16",
         "2015-01-01",
         "13:34:07",
         "40",
         "four_cheese_l",
         "1"
        ],
        [
         "40",
         "16",
         "2015-01-01",
         "13:34:07",
         "41",
         "napolitana_s",
         "1"
        ],
        [
         "41",
         "16",
         "2015-01-01",
         "13:34:07",
         "42",
         "thai_ckn_l",
         "1"
        ],
        [
         "42",
         "17",
         "2015-01-01",
         "13:53:00",
         "43",
         "bbq_ckn_l",
         "1"
        ],
        [
         "43",
         "17",
         "2015-01-01",
         "13:53:00",
         "44",
         "calabrese_m",
         "1"
        ],
        [
         "44",
         "17",
         "2015-01-01",
         "13:53:00",
         "45",
         "five_cheese_l",
         "1"
        ],
        [
         "45",
         "17",
         "2015-01-01",
         "13:53:00",
         "46",
         "four_cheese_m",
         "1"
        ],
        [
         "46",
         "17",
         "2015-01-01",
         "13:53:00",
         "47",
         "ital_supr_m",
         "1"
        ],
        [
         "47",
         "17",
         "2015-01-01",
         "13:53:00",
         "48",
         "ital_veggie_s",
         "1"
        ],
        [
         "48",
         "17",
         "2015-01-01",
         "13:53:00",
         "49",
         "mediterraneo_m",
         "2"
        ],
        [
         "49",
         "17",
         "2015-01-01",
         "13:53:00",
         "50",
         "mexicana_l",
         "1"
        ]
       ],
       "shape": {
        "columns": 6,
        "rows": 48620
       }
      },
      "text/html": [
       "<div>\n",
       "<style scoped>\n",
       "    .dataframe tbody tr th:only-of-type {\n",
       "        vertical-align: middle;\n",
       "    }\n",
       "\n",
       "    .dataframe tbody tr th {\n",
       "        vertical-align: top;\n",
       "    }\n",
       "\n",
       "    .dataframe thead th {\n",
       "        text-align: right;\n",
       "    }\n",
       "</style>\n",
       "<table border=\"1\" class=\"dataframe\">\n",
       "  <thead>\n",
       "    <tr style=\"text-align: right;\">\n",
       "      <th></th>\n",
       "      <th>order_id</th>\n",
       "      <th>date</th>\n",
       "      <th>time</th>\n",
       "      <th>order_details_id</th>\n",
       "      <th>pizza_id</th>\n",
       "      <th>quantity</th>\n",
       "    </tr>\n",
       "  </thead>\n",
       "  <tbody>\n",
       "    <tr>\n",
       "      <th>0</th>\n",
       "      <td>1</td>\n",
       "      <td>2015-01-01</td>\n",
       "      <td>11:38:36</td>\n",
       "      <td>1</td>\n",
       "      <td>hawaiian_m</td>\n",
       "      <td>1</td>\n",
       "    </tr>\n",
       "    <tr>\n",
       "      <th>1</th>\n",
       "      <td>2</td>\n",
       "      <td>2015-01-01</td>\n",
       "      <td>11:57:40</td>\n",
       "      <td>2</td>\n",
       "      <td>classic_dlx_m</td>\n",
       "      <td>1</td>\n",
       "    </tr>\n",
       "    <tr>\n",
       "      <th>2</th>\n",
       "      <td>2</td>\n",
       "      <td>2015-01-01</td>\n",
       "      <td>11:57:40</td>\n",
       "      <td>3</td>\n",
       "      <td>five_cheese_l</td>\n",
       "      <td>1</td>\n",
       "    </tr>\n",
       "    <tr>\n",
       "      <th>3</th>\n",
       "      <td>2</td>\n",
       "      <td>2015-01-01</td>\n",
       "      <td>11:57:40</td>\n",
       "      <td>4</td>\n",
       "      <td>ital_supr_l</td>\n",
       "      <td>1</td>\n",
       "    </tr>\n",
       "    <tr>\n",
       "      <th>4</th>\n",
       "      <td>2</td>\n",
       "      <td>2015-01-01</td>\n",
       "      <td>11:57:40</td>\n",
       "      <td>5</td>\n",
       "      <td>mexicana_m</td>\n",
       "      <td>1</td>\n",
       "    </tr>\n",
       "    <tr>\n",
       "      <th>...</th>\n",
       "      <td>...</td>\n",
       "      <td>...</td>\n",
       "      <td>...</td>\n",
       "      <td>...</td>\n",
       "      <td>...</td>\n",
       "      <td>...</td>\n",
       "    </tr>\n",
       "    <tr>\n",
       "      <th>48615</th>\n",
       "      <td>21348</td>\n",
       "      <td>2015-12-31</td>\n",
       "      <td>21:23:10</td>\n",
       "      <td>48616</td>\n",
       "      <td>ckn_alfredo_m</td>\n",
       "      <td>1</td>\n",
       "    </tr>\n",
       "    <tr>\n",
       "      <th>48616</th>\n",
       "      <td>21348</td>\n",
       "      <td>2015-12-31</td>\n",
       "      <td>21:23:10</td>\n",
       "      <td>48617</td>\n",
       "      <td>four_cheese_l</td>\n",
       "      <td>1</td>\n",
       "    </tr>\n",
       "    <tr>\n",
       "      <th>48617</th>\n",
       "      <td>21348</td>\n",
       "      <td>2015-12-31</td>\n",
       "      <td>21:23:10</td>\n",
       "      <td>48618</td>\n",
       "      <td>napolitana_s</td>\n",
       "      <td>1</td>\n",
       "    </tr>\n",
       "    <tr>\n",
       "      <th>48618</th>\n",
       "      <td>21349</td>\n",
       "      <td>2015-12-31</td>\n",
       "      <td>22:09:54</td>\n",
       "      <td>48619</td>\n",
       "      <td>mexicana_l</td>\n",
       "      <td>1</td>\n",
       "    </tr>\n",
       "    <tr>\n",
       "      <th>48619</th>\n",
       "      <td>21350</td>\n",
       "      <td>2015-12-31</td>\n",
       "      <td>23:02:05</td>\n",
       "      <td>48620</td>\n",
       "      <td>bbq_ckn_s</td>\n",
       "      <td>1</td>\n",
       "    </tr>\n",
       "  </tbody>\n",
       "</table>\n",
       "<p>48620 rows × 6 columns</p>\n",
       "</div>"
      ],
      "text/plain": [
       "       order_id        date      time  order_details_id       pizza_id  \\\n",
       "0             1  2015-01-01  11:38:36                 1     hawaiian_m   \n",
       "1             2  2015-01-01  11:57:40                 2  classic_dlx_m   \n",
       "2             2  2015-01-01  11:57:40                 3  five_cheese_l   \n",
       "3             2  2015-01-01  11:57:40                 4    ital_supr_l   \n",
       "4             2  2015-01-01  11:57:40                 5     mexicana_m   \n",
       "...         ...         ...       ...               ...            ...   \n",
       "48615     21348  2015-12-31  21:23:10             48616  ckn_alfredo_m   \n",
       "48616     21348  2015-12-31  21:23:10             48617  four_cheese_l   \n",
       "48617     21348  2015-12-31  21:23:10             48618   napolitana_s   \n",
       "48618     21349  2015-12-31  22:09:54             48619     mexicana_l   \n",
       "48619     21350  2015-12-31  23:02:05             48620      bbq_ckn_s   \n",
       "\n",
       "       quantity  \n",
       "0             1  \n",
       "1             1  \n",
       "2             1  \n",
       "3             1  \n",
       "4             1  \n",
       "...         ...  \n",
       "48615         1  \n",
       "48616         1  \n",
       "48617         1  \n",
       "48618         1  \n",
       "48619         1  \n",
       "\n",
       "[48620 rows x 6 columns]"
      ]
     },
     "execution_count": 10,
     "metadata": {},
     "output_type": "execute_result"
    }
   ],
   "source": [
    "Merged_order_and_order_details= pd.merge(Orders,Order_details,on='order_id')\n",
    "(Merged_order_and_order_details)"
   ]
  },
  {
   "cell_type": "markdown",
   "id": "e992160a",
   "metadata": {},
   "source": [
    "**MERGING PIZZA AND PIZZA TYPE BASED ON THE COMMON COLUMN (PIZZA_TYPE_ID)**"
   ]
  },
  {
   "cell_type": "code",
   "execution_count": 11,
   "id": "8fc2e092",
   "metadata": {},
   "outputs": [
    {
     "data": {
      "application/vnd.microsoft.datawrangler.viewer.v0+json": {
       "columns": [
        {
         "name": "index",
         "rawType": "int64",
         "type": "integer"
        },
        {
         "name": "pizza_id",
         "rawType": "object",
         "type": "string"
        },
        {
         "name": "pizza_type_id",
         "rawType": "object",
         "type": "string"
        },
        {
         "name": "size",
         "rawType": "object",
         "type": "string"
        },
        {
         "name": "price",
         "rawType": "float64",
         "type": "float"
        },
        {
         "name": "name",
         "rawType": "object",
         "type": "string"
        },
        {
         "name": "category",
         "rawType": "object",
         "type": "string"
        },
        {
         "name": "ingredients",
         "rawType": "object",
         "type": "string"
        }
       ],
       "conversionMethod": "pd.DataFrame",
       "ref": "f56ee171-33d0-456d-8611-0ea4cb0a33c0",
       "rows": [
        [
         "0",
         "bbq_ckn_s",
         "bbq_ckn",
         "S",
         "12.75",
         "The Barbecue Chicken Pizza",
         "Chicken",
         "Barbecued Chicken, Red Peppers, Green Peppers, Tomatoes, Red Onions, Barbecue Sauce"
        ],
        [
         "1",
         "bbq_ckn_m",
         "bbq_ckn",
         "M",
         "16.75",
         "The Barbecue Chicken Pizza",
         "Chicken",
         "Barbecued Chicken, Red Peppers, Green Peppers, Tomatoes, Red Onions, Barbecue Sauce"
        ],
        [
         "2",
         "bbq_ckn_l",
         "bbq_ckn",
         "L",
         "20.75",
         "The Barbecue Chicken Pizza",
         "Chicken",
         "Barbecued Chicken, Red Peppers, Green Peppers, Tomatoes, Red Onions, Barbecue Sauce"
        ],
        [
         "3",
         "cali_ckn_s",
         "cali_ckn",
         "S",
         "12.75",
         "The California Chicken Pizza",
         "Chicken",
         "Chicken, Artichoke, Spinach, Garlic, Jalapeno Peppers, Fontina Cheese, Gouda Cheese"
        ],
        [
         "4",
         "cali_ckn_m",
         "cali_ckn",
         "M",
         "16.75",
         "The California Chicken Pizza",
         "Chicken",
         "Chicken, Artichoke, Spinach, Garlic, Jalapeno Peppers, Fontina Cheese, Gouda Cheese"
        ],
        [
         "5",
         "cali_ckn_l",
         "cali_ckn",
         "L",
         "20.75",
         "The California Chicken Pizza",
         "Chicken",
         "Chicken, Artichoke, Spinach, Garlic, Jalapeno Peppers, Fontina Cheese, Gouda Cheese"
        ],
        [
         "6",
         "ckn_alfredo_s",
         "ckn_alfredo",
         "S",
         "12.75",
         "The Chicken Alfredo Pizza",
         "Chicken",
         "Chicken, Red Onions, Red Peppers, Mushrooms, Asiago Cheese, Alfredo Sauce"
        ],
        [
         "7",
         "ckn_alfredo_m",
         "ckn_alfredo",
         "M",
         "16.75",
         "The Chicken Alfredo Pizza",
         "Chicken",
         "Chicken, Red Onions, Red Peppers, Mushrooms, Asiago Cheese, Alfredo Sauce"
        ],
        [
         "8",
         "ckn_alfredo_l",
         "ckn_alfredo",
         "L",
         "20.75",
         "The Chicken Alfredo Pizza",
         "Chicken",
         "Chicken, Red Onions, Red Peppers, Mushrooms, Asiago Cheese, Alfredo Sauce"
        ],
        [
         "9",
         "ckn_pesto_s",
         "ckn_pesto",
         "S",
         "12.75",
         "The Chicken Pesto Pizza",
         "Chicken",
         "Chicken, Tomatoes, Red Peppers, Spinach, Garlic, Pesto Sauce"
        ],
        [
         "10",
         "ckn_pesto_m",
         "ckn_pesto",
         "M",
         "16.75",
         "The Chicken Pesto Pizza",
         "Chicken",
         "Chicken, Tomatoes, Red Peppers, Spinach, Garlic, Pesto Sauce"
        ],
        [
         "11",
         "ckn_pesto_l",
         "ckn_pesto",
         "L",
         "20.75",
         "The Chicken Pesto Pizza",
         "Chicken",
         "Chicken, Tomatoes, Red Peppers, Spinach, Garlic, Pesto Sauce"
        ],
        [
         "12",
         "southw_ckn_s",
         "southw_ckn",
         "S",
         "12.75",
         "The Southwest Chicken Pizza",
         "Chicken",
         "Chicken, Tomatoes, Red Peppers, Red Onions, Jalapeno Peppers, Corn, Cilantro, Chipotle Sauce"
        ],
        [
         "13",
         "southw_ckn_m",
         "southw_ckn",
         "M",
         "16.75",
         "The Southwest Chicken Pizza",
         "Chicken",
         "Chicken, Tomatoes, Red Peppers, Red Onions, Jalapeno Peppers, Corn, Cilantro, Chipotle Sauce"
        ],
        [
         "14",
         "southw_ckn_l",
         "southw_ckn",
         "L",
         "20.75",
         "The Southwest Chicken Pizza",
         "Chicken",
         "Chicken, Tomatoes, Red Peppers, Red Onions, Jalapeno Peppers, Corn, Cilantro, Chipotle Sauce"
        ],
        [
         "15",
         "thai_ckn_s",
         "thai_ckn",
         "S",
         "12.75",
         "The Thai Chicken Pizza",
         "Chicken",
         "Chicken, Pineapple, Tomatoes, Red Peppers, Thai Sweet Chilli Sauce"
        ],
        [
         "16",
         "thai_ckn_m",
         "thai_ckn",
         "M",
         "16.75",
         "The Thai Chicken Pizza",
         "Chicken",
         "Chicken, Pineapple, Tomatoes, Red Peppers, Thai Sweet Chilli Sauce"
        ],
        [
         "17",
         "thai_ckn_l",
         "thai_ckn",
         "L",
         "20.75",
         "The Thai Chicken Pizza",
         "Chicken",
         "Chicken, Pineapple, Tomatoes, Red Peppers, Thai Sweet Chilli Sauce"
        ],
        [
         "18",
         "big_meat_s",
         "big_meat",
         "S",
         "12.0",
         "The Big Meat Pizza",
         "Classic",
         "Bacon, Pepperoni, Italian Sausage, Chorizo Sausage"
        ],
        [
         "19",
         "big_meat_m",
         "big_meat",
         "M",
         "16.0",
         "The Big Meat Pizza",
         "Classic",
         "Bacon, Pepperoni, Italian Sausage, Chorizo Sausage"
        ],
        [
         "20",
         "big_meat_l",
         "big_meat",
         "L",
         "20.5",
         "The Big Meat Pizza",
         "Classic",
         "Bacon, Pepperoni, Italian Sausage, Chorizo Sausage"
        ],
        [
         "21",
         "classic_dlx_s",
         "classic_dlx",
         "S",
         "12.0",
         "The Classic Deluxe Pizza",
         "Classic",
         "Pepperoni, Mushrooms, Red Onions, Red Peppers, Bacon"
        ],
        [
         "22",
         "classic_dlx_m",
         "classic_dlx",
         "M",
         "16.0",
         "The Classic Deluxe Pizza",
         "Classic",
         "Pepperoni, Mushrooms, Red Onions, Red Peppers, Bacon"
        ],
        [
         "23",
         "classic_dlx_l",
         "classic_dlx",
         "L",
         "20.5",
         "The Classic Deluxe Pizza",
         "Classic",
         "Pepperoni, Mushrooms, Red Onions, Red Peppers, Bacon"
        ],
        [
         "24",
         "hawaiian_s",
         "hawaiian",
         "S",
         "10.5",
         "The Hawaiian Pizza",
         "Classic",
         "Sliced Ham, Pineapple, Mozzarella Cheese"
        ],
        [
         "25",
         "hawaiian_m",
         "hawaiian",
         "M",
         "13.25",
         "The Hawaiian Pizza",
         "Classic",
         "Sliced Ham, Pineapple, Mozzarella Cheese"
        ],
        [
         "26",
         "hawaiian_l",
         "hawaiian",
         "L",
         "16.5",
         "The Hawaiian Pizza",
         "Classic",
         "Sliced Ham, Pineapple, Mozzarella Cheese"
        ],
        [
         "27",
         "ital_cpcllo_s",
         "ital_cpcllo",
         "S",
         "12.0",
         "The Italian Capocollo Pizza",
         "Classic",
         "Capocollo, Red Peppers, Tomatoes, Goat Cheese, Garlic, Oregano"
        ],
        [
         "28",
         "ital_cpcllo_m",
         "ital_cpcllo",
         "M",
         "16.0",
         "The Italian Capocollo Pizza",
         "Classic",
         "Capocollo, Red Peppers, Tomatoes, Goat Cheese, Garlic, Oregano"
        ],
        [
         "29",
         "ital_cpcllo_l",
         "ital_cpcllo",
         "L",
         "20.5",
         "The Italian Capocollo Pizza",
         "Classic",
         "Capocollo, Red Peppers, Tomatoes, Goat Cheese, Garlic, Oregano"
        ],
        [
         "30",
         "napolitana_s",
         "napolitana",
         "S",
         "12.0",
         "The Napolitana Pizza",
         "Classic",
         "Tomatoes, Anchovies, Green Olives, Red Onions, Garlic"
        ],
        [
         "31",
         "napolitana_m",
         "napolitana",
         "M",
         "16.0",
         "The Napolitana Pizza",
         "Classic",
         "Tomatoes, Anchovies, Green Olives, Red Onions, Garlic"
        ],
        [
         "32",
         "napolitana_l",
         "napolitana",
         "L",
         "20.5",
         "The Napolitana Pizza",
         "Classic",
         "Tomatoes, Anchovies, Green Olives, Red Onions, Garlic"
        ],
        [
         "33",
         "pep_msh_pep_s",
         "pep_msh_pep",
         "S",
         "11.0",
         "The Pepperoni, Mushroom, and Peppers Pizza",
         "Classic",
         "Pepperoni, Mushrooms, Green Peppers"
        ],
        [
         "34",
         "pep_msh_pep_m",
         "pep_msh_pep",
         "M",
         "14.5",
         "The Pepperoni, Mushroom, and Peppers Pizza",
         "Classic",
         "Pepperoni, Mushrooms, Green Peppers"
        ],
        [
         "35",
         "pep_msh_pep_l",
         "pep_msh_pep",
         "L",
         "17.5",
         "The Pepperoni, Mushroom, and Peppers Pizza",
         "Classic",
         "Pepperoni, Mushrooms, Green Peppers"
        ],
        [
         "36",
         "pepperoni_s",
         "pepperoni",
         "S",
         "9.75",
         "The Pepperoni Pizza",
         "Classic",
         "Mozzarella Cheese, Pepperoni"
        ],
        [
         "37",
         "pepperoni_m",
         "pepperoni",
         "M",
         "12.5",
         "The Pepperoni Pizza",
         "Classic",
         "Mozzarella Cheese, Pepperoni"
        ],
        [
         "38",
         "pepperoni_l",
         "pepperoni",
         "L",
         "15.25",
         "The Pepperoni Pizza",
         "Classic",
         "Mozzarella Cheese, Pepperoni"
        ],
        [
         "39",
         "the_greek_s",
         "the_greek",
         "S",
         "12.0",
         "The Greek Pizza",
         "Classic",
         "Kalamata Olives, Feta Cheese, Tomatoes, Garlic, Beef Chuck Roast, Red Onions"
        ],
        [
         "40",
         "the_greek_m",
         "the_greek",
         "M",
         "16.0",
         "The Greek Pizza",
         "Classic",
         "Kalamata Olives, Feta Cheese, Tomatoes, Garlic, Beef Chuck Roast, Red Onions"
        ],
        [
         "41",
         "the_greek_l",
         "the_greek",
         "L",
         "20.5",
         "The Greek Pizza",
         "Classic",
         "Kalamata Olives, Feta Cheese, Tomatoes, Garlic, Beef Chuck Roast, Red Onions"
        ],
        [
         "42",
         "the_greek_xl",
         "the_greek",
         "XL",
         "25.5",
         "The Greek Pizza",
         "Classic",
         "Kalamata Olives, Feta Cheese, Tomatoes, Garlic, Beef Chuck Roast, Red Onions"
        ],
        [
         "43",
         "the_greek_xxl",
         "the_greek",
         "XXL",
         "35.95",
         "The Greek Pizza",
         "Classic",
         "Kalamata Olives, Feta Cheese, Tomatoes, Garlic, Beef Chuck Roast, Red Onions"
        ],
        [
         "44",
         "brie_carre_s",
         "brie_carre",
         "S",
         "23.65",
         "The Brie Carre Pizza",
         "Supreme",
         "Brie Carre Cheese, Prosciutto, Caramelized Onions, Pears, Thyme, Garlic"
        ],
        [
         "45",
         "calabrese_s",
         "calabrese",
         "S",
         "12.25",
         "The Calabrese Pizza",
         "Supreme",
         "Nduja Salami, Pancetta, Tomatoes, Red Onions, Friggitello Peppers, Garlic"
        ],
        [
         "46",
         "calabrese_m",
         "calabrese",
         "M",
         "16.25",
         "The Calabrese Pizza",
         "Supreme",
         "Nduja Salami, Pancetta, Tomatoes, Red Onions, Friggitello Peppers, Garlic"
        ],
        [
         "47",
         "calabrese_l",
         "calabrese",
         "L",
         "20.25",
         "The Calabrese Pizza",
         "Supreme",
         "Nduja Salami, Pancetta, Tomatoes, Red Onions, Friggitello Peppers, Garlic"
        ],
        [
         "48",
         "ital_supr_s",
         "ital_supr",
         "S",
         "12.5",
         "The Italian Supreme Pizza",
         "Supreme",
         "Calabrese Salami, Capocollo, Tomatoes, Red Onions, Green Olives, Garlic"
        ],
        [
         "49",
         "ital_supr_m",
         "ital_supr",
         "M",
         "16.5",
         "The Italian Supreme Pizza",
         "Supreme",
         "Calabrese Salami, Capocollo, Tomatoes, Red Onions, Green Olives, Garlic"
        ]
       ],
       "shape": {
        "columns": 7,
        "rows": 96
       }
      },
      "text/html": [
       "<div>\n",
       "<style scoped>\n",
       "    .dataframe tbody tr th:only-of-type {\n",
       "        vertical-align: middle;\n",
       "    }\n",
       "\n",
       "    .dataframe tbody tr th {\n",
       "        vertical-align: top;\n",
       "    }\n",
       "\n",
       "    .dataframe thead th {\n",
       "        text-align: right;\n",
       "    }\n",
       "</style>\n",
       "<table border=\"1\" class=\"dataframe\">\n",
       "  <thead>\n",
       "    <tr style=\"text-align: right;\">\n",
       "      <th></th>\n",
       "      <th>pizza_id</th>\n",
       "      <th>pizza_type_id</th>\n",
       "      <th>size</th>\n",
       "      <th>price</th>\n",
       "      <th>name</th>\n",
       "      <th>category</th>\n",
       "      <th>ingredients</th>\n",
       "    </tr>\n",
       "  </thead>\n",
       "  <tbody>\n",
       "    <tr>\n",
       "      <th>0</th>\n",
       "      <td>bbq_ckn_s</td>\n",
       "      <td>bbq_ckn</td>\n",
       "      <td>S</td>\n",
       "      <td>12.75</td>\n",
       "      <td>The Barbecue Chicken Pizza</td>\n",
       "      <td>Chicken</td>\n",
       "      <td>Barbecued Chicken, Red Peppers, Green Peppers,...</td>\n",
       "    </tr>\n",
       "    <tr>\n",
       "      <th>1</th>\n",
       "      <td>bbq_ckn_m</td>\n",
       "      <td>bbq_ckn</td>\n",
       "      <td>M</td>\n",
       "      <td>16.75</td>\n",
       "      <td>The Barbecue Chicken Pizza</td>\n",
       "      <td>Chicken</td>\n",
       "      <td>Barbecued Chicken, Red Peppers, Green Peppers,...</td>\n",
       "    </tr>\n",
       "    <tr>\n",
       "      <th>2</th>\n",
       "      <td>bbq_ckn_l</td>\n",
       "      <td>bbq_ckn</td>\n",
       "      <td>L</td>\n",
       "      <td>20.75</td>\n",
       "      <td>The Barbecue Chicken Pizza</td>\n",
       "      <td>Chicken</td>\n",
       "      <td>Barbecued Chicken, Red Peppers, Green Peppers,...</td>\n",
       "    </tr>\n",
       "    <tr>\n",
       "      <th>3</th>\n",
       "      <td>cali_ckn_s</td>\n",
       "      <td>cali_ckn</td>\n",
       "      <td>S</td>\n",
       "      <td>12.75</td>\n",
       "      <td>The California Chicken Pizza</td>\n",
       "      <td>Chicken</td>\n",
       "      <td>Chicken, Artichoke, Spinach, Garlic, Jalapeno ...</td>\n",
       "    </tr>\n",
       "    <tr>\n",
       "      <th>4</th>\n",
       "      <td>cali_ckn_m</td>\n",
       "      <td>cali_ckn</td>\n",
       "      <td>M</td>\n",
       "      <td>16.75</td>\n",
       "      <td>The California Chicken Pizza</td>\n",
       "      <td>Chicken</td>\n",
       "      <td>Chicken, Artichoke, Spinach, Garlic, Jalapeno ...</td>\n",
       "    </tr>\n",
       "    <tr>\n",
       "      <th>...</th>\n",
       "      <td>...</td>\n",
       "      <td>...</td>\n",
       "      <td>...</td>\n",
       "      <td>...</td>\n",
       "      <td>...</td>\n",
       "      <td>...</td>\n",
       "      <td>...</td>\n",
       "    </tr>\n",
       "    <tr>\n",
       "      <th>91</th>\n",
       "      <td>spinach_fet_m</td>\n",
       "      <td>spinach_fet</td>\n",
       "      <td>M</td>\n",
       "      <td>16.00</td>\n",
       "      <td>The Spinach and Feta Pizza</td>\n",
       "      <td>Veggie</td>\n",
       "      <td>Spinach, Mushrooms, Red Onions, Feta Cheese, G...</td>\n",
       "    </tr>\n",
       "    <tr>\n",
       "      <th>92</th>\n",
       "      <td>spinach_fet_l</td>\n",
       "      <td>spinach_fet</td>\n",
       "      <td>L</td>\n",
       "      <td>20.25</td>\n",
       "      <td>The Spinach and Feta Pizza</td>\n",
       "      <td>Veggie</td>\n",
       "      <td>Spinach, Mushrooms, Red Onions, Feta Cheese, G...</td>\n",
       "    </tr>\n",
       "    <tr>\n",
       "      <th>93</th>\n",
       "      <td>veggie_veg_s</td>\n",
       "      <td>veggie_veg</td>\n",
       "      <td>S</td>\n",
       "      <td>12.00</td>\n",
       "      <td>The Vegetables + Vegetables Pizza</td>\n",
       "      <td>Veggie</td>\n",
       "      <td>Mushrooms, Tomatoes, Red Peppers, Green Pepper...</td>\n",
       "    </tr>\n",
       "    <tr>\n",
       "      <th>94</th>\n",
       "      <td>veggie_veg_m</td>\n",
       "      <td>veggie_veg</td>\n",
       "      <td>M</td>\n",
       "      <td>16.00</td>\n",
       "      <td>The Vegetables + Vegetables Pizza</td>\n",
       "      <td>Veggie</td>\n",
       "      <td>Mushrooms, Tomatoes, Red Peppers, Green Pepper...</td>\n",
       "    </tr>\n",
       "    <tr>\n",
       "      <th>95</th>\n",
       "      <td>veggie_veg_l</td>\n",
       "      <td>veggie_veg</td>\n",
       "      <td>L</td>\n",
       "      <td>20.25</td>\n",
       "      <td>The Vegetables + Vegetables Pizza</td>\n",
       "      <td>Veggie</td>\n",
       "      <td>Mushrooms, Tomatoes, Red Peppers, Green Pepper...</td>\n",
       "    </tr>\n",
       "  </tbody>\n",
       "</table>\n",
       "<p>96 rows × 7 columns</p>\n",
       "</div>"
      ],
      "text/plain": [
       "         pizza_id pizza_type_id size  price  \\\n",
       "0       bbq_ckn_s       bbq_ckn    S  12.75   \n",
       "1       bbq_ckn_m       bbq_ckn    M  16.75   \n",
       "2       bbq_ckn_l       bbq_ckn    L  20.75   \n",
       "3      cali_ckn_s      cali_ckn    S  12.75   \n",
       "4      cali_ckn_m      cali_ckn    M  16.75   \n",
       "..            ...           ...  ...    ...   \n",
       "91  spinach_fet_m   spinach_fet    M  16.00   \n",
       "92  spinach_fet_l   spinach_fet    L  20.25   \n",
       "93   veggie_veg_s    veggie_veg    S  12.00   \n",
       "94   veggie_veg_m    veggie_veg    M  16.00   \n",
       "95   veggie_veg_l    veggie_veg    L  20.25   \n",
       "\n",
       "                                 name category  \\\n",
       "0          The Barbecue Chicken Pizza  Chicken   \n",
       "1          The Barbecue Chicken Pizza  Chicken   \n",
       "2          The Barbecue Chicken Pizza  Chicken   \n",
       "3        The California Chicken Pizza  Chicken   \n",
       "4        The California Chicken Pizza  Chicken   \n",
       "..                                ...      ...   \n",
       "91         The Spinach and Feta Pizza   Veggie   \n",
       "92         The Spinach and Feta Pizza   Veggie   \n",
       "93  The Vegetables + Vegetables Pizza   Veggie   \n",
       "94  The Vegetables + Vegetables Pizza   Veggie   \n",
       "95  The Vegetables + Vegetables Pizza   Veggie   \n",
       "\n",
       "                                          ingredients  \n",
       "0   Barbecued Chicken, Red Peppers, Green Peppers,...  \n",
       "1   Barbecued Chicken, Red Peppers, Green Peppers,...  \n",
       "2   Barbecued Chicken, Red Peppers, Green Peppers,...  \n",
       "3   Chicken, Artichoke, Spinach, Garlic, Jalapeno ...  \n",
       "4   Chicken, Artichoke, Spinach, Garlic, Jalapeno ...  \n",
       "..                                                ...  \n",
       "91  Spinach, Mushrooms, Red Onions, Feta Cheese, G...  \n",
       "92  Spinach, Mushrooms, Red Onions, Feta Cheese, G...  \n",
       "93  Mushrooms, Tomatoes, Red Peppers, Green Pepper...  \n",
       "94  Mushrooms, Tomatoes, Red Peppers, Green Pepper...  \n",
       "95  Mushrooms, Tomatoes, Red Peppers, Green Pepper...  \n",
       "\n",
       "[96 rows x 7 columns]"
      ]
     },
     "execution_count": 11,
     "metadata": {},
     "output_type": "execute_result"
    }
   ],
   "source": [
    "Merged_pizza_and_pizza_type=pd.merge(Pizza,Pizza_types,on='pizza_type_id')\n",
    "(Merged_pizza_and_pizza_type)"
   ]
  },
  {
   "cell_type": "markdown",
   "id": "a02d20dd",
   "metadata": {},
   "source": [
    "**MERGING BOTH MERGED DATA TOGETHER**"
   ]
  },
  {
   "cell_type": "code",
   "execution_count": 12,
   "id": "168e161a",
   "metadata": {},
   "outputs": [
    {
     "data": {
      "application/vnd.microsoft.datawrangler.viewer.v0+json": {
       "columns": [
        {
         "name": "index",
         "rawType": "int64",
         "type": "integer"
        },
        {
         "name": "order_id",
         "rawType": "int64",
         "type": "integer"
        },
        {
         "name": "date",
         "rawType": "object",
         "type": "string"
        },
        {
         "name": "time",
         "rawType": "object",
         "type": "string"
        },
        {
         "name": "order_details_id",
         "rawType": "int64",
         "type": "integer"
        },
        {
         "name": "pizza_id",
         "rawType": "object",
         "type": "string"
        },
        {
         "name": "quantity",
         "rawType": "int64",
         "type": "integer"
        },
        {
         "name": "pizza_type_id",
         "rawType": "object",
         "type": "string"
        },
        {
         "name": "size",
         "rawType": "object",
         "type": "string"
        },
        {
         "name": "price",
         "rawType": "float64",
         "type": "float"
        },
        {
         "name": "name",
         "rawType": "object",
         "type": "string"
        },
        {
         "name": "category",
         "rawType": "object",
         "type": "string"
        },
        {
         "name": "ingredients",
         "rawType": "object",
         "type": "string"
        }
       ],
       "conversionMethod": "pd.DataFrame",
       "ref": "c20a86e0-87b9-4c9a-8210-92d00958bb1b",
       "rows": [
        [
         "0",
         "1",
         "2015-01-01",
         "11:38:36",
         "1",
         "hawaiian_m",
         "1",
         "hawaiian",
         "M",
         "13.25",
         "The Hawaiian Pizza",
         "Classic",
         "Sliced Ham, Pineapple, Mozzarella Cheese"
        ],
        [
         "1",
         "2",
         "2015-01-01",
         "11:57:40",
         "2",
         "classic_dlx_m",
         "1",
         "classic_dlx",
         "M",
         "16.0",
         "The Classic Deluxe Pizza",
         "Classic",
         "Pepperoni, Mushrooms, Red Onions, Red Peppers, Bacon"
        ],
        [
         "2",
         "2",
         "2015-01-01",
         "11:57:40",
         "3",
         "five_cheese_l",
         "1",
         "five_cheese",
         "L",
         "18.5",
         "The Five Cheese Pizza",
         "Veggie",
         "Mozzarella Cheese, Provolone Cheese, Smoked Gouda Cheese, Romano Cheese, Blue Cheese, Garlic"
        ],
        [
         "3",
         "2",
         "2015-01-01",
         "11:57:40",
         "4",
         "ital_supr_l",
         "1",
         "ital_supr",
         "L",
         "20.75",
         "The Italian Supreme Pizza",
         "Supreme",
         "Calabrese Salami, Capocollo, Tomatoes, Red Onions, Green Olives, Garlic"
        ],
        [
         "4",
         "2",
         "2015-01-01",
         "11:57:40",
         "5",
         "mexicana_m",
         "1",
         "mexicana",
         "M",
         "16.0",
         "The Mexicana Pizza",
         "Veggie",
         "Tomatoes, Red Peppers, Jalapeno Peppers, Red Onions, Cilantro, Corn, Chipotle Sauce, Garlic"
        ],
        [
         "5",
         "2",
         "2015-01-01",
         "11:57:40",
         "6",
         "thai_ckn_l",
         "1",
         "thai_ckn",
         "L",
         "20.75",
         "The Thai Chicken Pizza",
         "Chicken",
         "Chicken, Pineapple, Tomatoes, Red Peppers, Thai Sweet Chilli Sauce"
        ],
        [
         "6",
         "3",
         "2015-01-01",
         "12:12:28",
         "7",
         "ital_supr_m",
         "1",
         "ital_supr",
         "M",
         "16.5",
         "The Italian Supreme Pizza",
         "Supreme",
         "Calabrese Salami, Capocollo, Tomatoes, Red Onions, Green Olives, Garlic"
        ],
        [
         "7",
         "3",
         "2015-01-01",
         "12:12:28",
         "8",
         "prsc_argla_l",
         "1",
         "prsc_argla",
         "L",
         "20.75",
         "The Prosciutto and Arugula Pizza",
         "Supreme",
         "Prosciutto di San Daniele, Arugula, Mozzarella Cheese"
        ],
        [
         "8",
         "4",
         "2015-01-01",
         "12:16:31",
         "9",
         "ital_supr_m",
         "1",
         "ital_supr",
         "M",
         "16.5",
         "The Italian Supreme Pizza",
         "Supreme",
         "Calabrese Salami, Capocollo, Tomatoes, Red Onions, Green Olives, Garlic"
        ],
        [
         "9",
         "5",
         "2015-01-01",
         "12:21:30",
         "10",
         "ital_supr_m",
         "1",
         "ital_supr",
         "M",
         "16.5",
         "The Italian Supreme Pizza",
         "Supreme",
         "Calabrese Salami, Capocollo, Tomatoes, Red Onions, Green Olives, Garlic"
        ],
        [
         "10",
         "6",
         "2015-01-01",
         "12:29:36",
         "11",
         "bbq_ckn_s",
         "1",
         "bbq_ckn",
         "S",
         "12.75",
         "The Barbecue Chicken Pizza",
         "Chicken",
         "Barbecued Chicken, Red Peppers, Green Peppers, Tomatoes, Red Onions, Barbecue Sauce"
        ],
        [
         "11",
         "6",
         "2015-01-01",
         "12:29:36",
         "12",
         "the_greek_s",
         "1",
         "the_greek",
         "S",
         "12.0",
         "The Greek Pizza",
         "Classic",
         "Kalamata Olives, Feta Cheese, Tomatoes, Garlic, Beef Chuck Roast, Red Onions"
        ],
        [
         "12",
         "7",
         "2015-01-01",
         "12:50:37",
         "13",
         "spinach_supr_s",
         "1",
         "spinach_supr",
         "S",
         "12.5",
         "The Spinach Supreme Pizza",
         "Supreme",
         "Spinach, Red Onions, Pepperoni, Tomatoes, Artichokes, Kalamata Olives, Garlic, Asiago Cheese"
        ],
        [
         "13",
         "8",
         "2015-01-01",
         "12:51:37",
         "14",
         "spinach_supr_s",
         "1",
         "spinach_supr",
         "S",
         "12.5",
         "The Spinach Supreme Pizza",
         "Supreme",
         "Spinach, Red Onions, Pepperoni, Tomatoes, Artichokes, Kalamata Olives, Garlic, Asiago Cheese"
        ],
        [
         "14",
         "9",
         "2015-01-01",
         "12:52:01",
         "15",
         "classic_dlx_s",
         "1",
         "classic_dlx",
         "S",
         "12.0",
         "The Classic Deluxe Pizza",
         "Classic",
         "Pepperoni, Mushrooms, Red Onions, Red Peppers, Bacon"
        ],
        [
         "15",
         "9",
         "2015-01-01",
         "12:52:01",
         "16",
         "green_garden_s",
         "1",
         "green_garden",
         "S",
         "12.0",
         "The Green Garden Pizza",
         "Veggie",
         "Spinach, Mushrooms, Tomatoes, Green Olives, Feta Cheese"
        ],
        [
         "16",
         "9",
         "2015-01-01",
         "12:52:01",
         "17",
         "ital_cpcllo_l",
         "1",
         "ital_cpcllo",
         "L",
         "20.5",
         "The Italian Capocollo Pizza",
         "Classic",
         "Capocollo, Red Peppers, Tomatoes, Goat Cheese, Garlic, Oregano"
        ],
        [
         "17",
         "9",
         "2015-01-01",
         "12:52:01",
         "18",
         "ital_supr_l",
         "1",
         "ital_supr",
         "L",
         "20.75",
         "The Italian Supreme Pizza",
         "Supreme",
         "Calabrese Salami, Capocollo, Tomatoes, Red Onions, Green Olives, Garlic"
        ],
        [
         "18",
         "9",
         "2015-01-01",
         "12:52:01",
         "19",
         "ital_supr_s",
         "1",
         "ital_supr",
         "S",
         "12.5",
         "The Italian Supreme Pizza",
         "Supreme",
         "Calabrese Salami, Capocollo, Tomatoes, Red Onions, Green Olives, Garlic"
        ],
        [
         "19",
         "9",
         "2015-01-01",
         "12:52:01",
         "20",
         "mexicana_s",
         "1",
         "mexicana",
         "S",
         "12.0",
         "The Mexicana Pizza",
         "Veggie",
         "Tomatoes, Red Peppers, Jalapeno Peppers, Red Onions, Cilantro, Corn, Chipotle Sauce, Garlic"
        ],
        [
         "20",
         "9",
         "2015-01-01",
         "12:52:01",
         "21",
         "spicy_ital_l",
         "1",
         "spicy_ital",
         "L",
         "20.75",
         "The Spicy Italian Pizza",
         "Supreme",
         "Capocollo, Tomatoes, Goat Cheese, Artichokes, Peperoncini verdi, Garlic"
        ],
        [
         "21",
         "9",
         "2015-01-01",
         "12:52:01",
         "22",
         "spin_pesto_l",
         "1",
         "spin_pesto",
         "L",
         "20.75",
         "The Spinach Pesto Pizza",
         "Veggie",
         "Spinach, Artichokes, Tomatoes, Sun-dried Tomatoes, Garlic, Pesto Sauce"
        ],
        [
         "22",
         "9",
         "2015-01-01",
         "12:52:01",
         "23",
         "veggie_veg_s",
         "1",
         "veggie_veg",
         "S",
         "12.0",
         "The Vegetables + Vegetables Pizza",
         "Veggie",
         "Mushrooms, Tomatoes, Red Peppers, Green Peppers, Red Onions, Zucchini, Spinach, Garlic"
        ],
        [
         "23",
         "10",
         "2015-01-01",
         "13:00:15",
         "24",
         "mexicana_l",
         "1",
         "mexicana",
         "L",
         "20.25",
         "The Mexicana Pizza",
         "Veggie",
         "Tomatoes, Red Peppers, Jalapeno Peppers, Red Onions, Cilantro, Corn, Chipotle Sauce, Garlic"
        ],
        [
         "24",
         "10",
         "2015-01-01",
         "13:00:15",
         "25",
         "southw_ckn_l",
         "1",
         "southw_ckn",
         "L",
         "20.75",
         "The Southwest Chicken Pizza",
         "Chicken",
         "Chicken, Tomatoes, Red Peppers, Red Onions, Jalapeno Peppers, Corn, Cilantro, Chipotle Sauce"
        ],
        [
         "25",
         "11",
         "2015-01-01",
         "13:02:59",
         "26",
         "bbq_ckn_l",
         "1",
         "bbq_ckn",
         "L",
         "20.75",
         "The Barbecue Chicken Pizza",
         "Chicken",
         "Barbecued Chicken, Red Peppers, Green Peppers, Tomatoes, Red Onions, Barbecue Sauce"
        ],
        [
         "26",
         "11",
         "2015-01-01",
         "13:02:59",
         "27",
         "cali_ckn_l",
         "1",
         "cali_ckn",
         "L",
         "20.75",
         "The California Chicken Pizza",
         "Chicken",
         "Chicken, Artichoke, Spinach, Garlic, Jalapeno Peppers, Fontina Cheese, Gouda Cheese"
        ],
        [
         "27",
         "11",
         "2015-01-01",
         "13:02:59",
         "28",
         "cali_ckn_m",
         "1",
         "cali_ckn",
         "M",
         "16.75",
         "The California Chicken Pizza",
         "Chicken",
         "Chicken, Artichoke, Spinach, Garlic, Jalapeno Peppers, Fontina Cheese, Gouda Cheese"
        ],
        [
         "28",
         "11",
         "2015-01-01",
         "13:02:59",
         "29",
         "pepperoni_l",
         "1",
         "pepperoni",
         "L",
         "15.25",
         "The Pepperoni Pizza",
         "Classic",
         "Mozzarella Cheese, Pepperoni"
        ],
        [
         "29",
         "12",
         "2015-01-01",
         "13:04:41",
         "30",
         "cali_ckn_l",
         "1",
         "cali_ckn",
         "L",
         "20.75",
         "The California Chicken Pizza",
         "Chicken",
         "Chicken, Artichoke, Spinach, Garlic, Jalapeno Peppers, Fontina Cheese, Gouda Cheese"
        ],
        [
         "30",
         "12",
         "2015-01-01",
         "13:04:41",
         "31",
         "cali_ckn_s",
         "1",
         "cali_ckn",
         "S",
         "12.75",
         "The California Chicken Pizza",
         "Chicken",
         "Chicken, Artichoke, Spinach, Garlic, Jalapeno Peppers, Fontina Cheese, Gouda Cheese"
        ],
        [
         "31",
         "12",
         "2015-01-01",
         "13:04:41",
         "32",
         "ckn_pesto_l",
         "1",
         "ckn_pesto",
         "L",
         "20.75",
         "The Chicken Pesto Pizza",
         "Chicken",
         "Chicken, Tomatoes, Red Peppers, Spinach, Garlic, Pesto Sauce"
        ],
        [
         "32",
         "12",
         "2015-01-01",
         "13:04:41",
         "33",
         "ital_supr_m",
         "1",
         "ital_supr",
         "M",
         "16.5",
         "The Italian Supreme Pizza",
         "Supreme",
         "Calabrese Salami, Capocollo, Tomatoes, Red Onions, Green Olives, Garlic"
        ],
        [
         "33",
         "13",
         "2015-01-01",
         "13:11:55",
         "34",
         "mexicana_l",
         "1",
         "mexicana",
         "L",
         "20.25",
         "The Mexicana Pizza",
         "Veggie",
         "Tomatoes, Red Peppers, Jalapeno Peppers, Red Onions, Cilantro, Corn, Chipotle Sauce, Garlic"
        ],
        [
         "34",
         "14",
         "2015-01-01",
         "13:14:19",
         "35",
         "the_greek_s",
         "1",
         "the_greek",
         "S",
         "12.0",
         "The Greek Pizza",
         "Classic",
         "Kalamata Olives, Feta Cheese, Tomatoes, Garlic, Beef Chuck Roast, Red Onions"
        ],
        [
         "35",
         "15",
         "2015-01-01",
         "13:33:00",
         "36",
         "big_meat_s",
         "1",
         "big_meat",
         "S",
         "12.0",
         "The Big Meat Pizza",
         "Classic",
         "Bacon, Pepperoni, Italian Sausage, Chorizo Sausage"
        ],
        [
         "36",
         "15",
         "2015-01-01",
         "13:33:00",
         "37",
         "five_cheese_l",
         "1",
         "five_cheese",
         "L",
         "18.5",
         "The Five Cheese Pizza",
         "Veggie",
         "Mozzarella Cheese, Provolone Cheese, Smoked Gouda Cheese, Romano Cheese, Blue Cheese, Garlic"
        ],
        [
         "37",
         "15",
         "2015-01-01",
         "13:33:00",
         "38",
         "soppressata_l",
         "1",
         "soppressata",
         "L",
         "20.75",
         "The Soppressata Pizza",
         "Supreme",
         "Soppressata Salami, Fontina Cheese, Mozzarella Cheese, Mushrooms, Garlic"
        ],
        [
         "38",
         "15",
         "2015-01-01",
         "13:33:00",
         "39",
         "the_greek_s",
         "1",
         "the_greek",
         "S",
         "12.0",
         "The Greek Pizza",
         "Classic",
         "Kalamata Olives, Feta Cheese, Tomatoes, Garlic, Beef Chuck Roast, Red Onions"
        ],
        [
         "39",
         "16",
         "2015-01-01",
         "13:34:07",
         "40",
         "four_cheese_l",
         "1",
         "four_cheese",
         "L",
         "17.95",
         "The Four Cheese Pizza",
         "Veggie",
         "Ricotta Cheese, Gorgonzola Piccante Cheese, Mozzarella Cheese, Parmigiano Reggiano Cheese, Garlic"
        ],
        [
         "40",
         "16",
         "2015-01-01",
         "13:34:07",
         "41",
         "napolitana_s",
         "1",
         "napolitana",
         "S",
         "12.0",
         "The Napolitana Pizza",
         "Classic",
         "Tomatoes, Anchovies, Green Olives, Red Onions, Garlic"
        ],
        [
         "41",
         "16",
         "2015-01-01",
         "13:34:07",
         "42",
         "thai_ckn_l",
         "1",
         "thai_ckn",
         "L",
         "20.75",
         "The Thai Chicken Pizza",
         "Chicken",
         "Chicken, Pineapple, Tomatoes, Red Peppers, Thai Sweet Chilli Sauce"
        ],
        [
         "42",
         "17",
         "2015-01-01",
         "13:53:00",
         "43",
         "bbq_ckn_l",
         "1",
         "bbq_ckn",
         "L",
         "20.75",
         "The Barbecue Chicken Pizza",
         "Chicken",
         "Barbecued Chicken, Red Peppers, Green Peppers, Tomatoes, Red Onions, Barbecue Sauce"
        ],
        [
         "43",
         "17",
         "2015-01-01",
         "13:53:00",
         "44",
         "calabrese_m",
         "1",
         "calabrese",
         "M",
         "16.25",
         "The Calabrese Pizza",
         "Supreme",
         "Nduja Salami, Pancetta, Tomatoes, Red Onions, Friggitello Peppers, Garlic"
        ],
        [
         "44",
         "17",
         "2015-01-01",
         "13:53:00",
         "45",
         "five_cheese_l",
         "1",
         "five_cheese",
         "L",
         "18.5",
         "The Five Cheese Pizza",
         "Veggie",
         "Mozzarella Cheese, Provolone Cheese, Smoked Gouda Cheese, Romano Cheese, Blue Cheese, Garlic"
        ],
        [
         "45",
         "17",
         "2015-01-01",
         "13:53:00",
         "46",
         "four_cheese_m",
         "1",
         "four_cheese",
         "M",
         "14.75",
         "The Four Cheese Pizza",
         "Veggie",
         "Ricotta Cheese, Gorgonzola Piccante Cheese, Mozzarella Cheese, Parmigiano Reggiano Cheese, Garlic"
        ],
        [
         "46",
         "17",
         "2015-01-01",
         "13:53:00",
         "47",
         "ital_supr_m",
         "1",
         "ital_supr",
         "M",
         "16.5",
         "The Italian Supreme Pizza",
         "Supreme",
         "Calabrese Salami, Capocollo, Tomatoes, Red Onions, Green Olives, Garlic"
        ],
        [
         "47",
         "17",
         "2015-01-01",
         "13:53:00",
         "48",
         "ital_veggie_s",
         "1",
         "ital_veggie",
         "S",
         "12.75",
         "The Italian Vegetables Pizza",
         "Veggie",
         "Eggplant, Artichokes, Tomatoes, Zucchini, Red Peppers, Garlic, Pesto Sauce"
        ],
        [
         "48",
         "17",
         "2015-01-01",
         "13:53:00",
         "49",
         "mediterraneo_m",
         "2",
         "mediterraneo",
         "M",
         "16.0",
         "The Mediterranean Pizza",
         "Veggie",
         "Spinach, Artichokes, Kalamata Olives, Sun-dried Tomatoes, Feta Cheese, Plum Tomatoes, Red Onions"
        ],
        [
         "49",
         "17",
         "2015-01-01",
         "13:53:00",
         "50",
         "mexicana_l",
         "1",
         "mexicana",
         "L",
         "20.25",
         "The Mexicana Pizza",
         "Veggie",
         "Tomatoes, Red Peppers, Jalapeno Peppers, Red Onions, Cilantro, Corn, Chipotle Sauce, Garlic"
        ]
       ],
       "shape": {
        "columns": 12,
        "rows": 48620
       }
      },
      "text/html": [
       "<div>\n",
       "<style scoped>\n",
       "    .dataframe tbody tr th:only-of-type {\n",
       "        vertical-align: middle;\n",
       "    }\n",
       "\n",
       "    .dataframe tbody tr th {\n",
       "        vertical-align: top;\n",
       "    }\n",
       "\n",
       "    .dataframe thead th {\n",
       "        text-align: right;\n",
       "    }\n",
       "</style>\n",
       "<table border=\"1\" class=\"dataframe\">\n",
       "  <thead>\n",
       "    <tr style=\"text-align: right;\">\n",
       "      <th></th>\n",
       "      <th>order_id</th>\n",
       "      <th>date</th>\n",
       "      <th>time</th>\n",
       "      <th>order_details_id</th>\n",
       "      <th>pizza_id</th>\n",
       "      <th>quantity</th>\n",
       "      <th>pizza_type_id</th>\n",
       "      <th>size</th>\n",
       "      <th>price</th>\n",
       "      <th>name</th>\n",
       "      <th>category</th>\n",
       "      <th>ingredients</th>\n",
       "    </tr>\n",
       "  </thead>\n",
       "  <tbody>\n",
       "    <tr>\n",
       "      <th>0</th>\n",
       "      <td>1</td>\n",
       "      <td>2015-01-01</td>\n",
       "      <td>11:38:36</td>\n",
       "      <td>1</td>\n",
       "      <td>hawaiian_m</td>\n",
       "      <td>1</td>\n",
       "      <td>hawaiian</td>\n",
       "      <td>M</td>\n",
       "      <td>13.25</td>\n",
       "      <td>The Hawaiian Pizza</td>\n",
       "      <td>Classic</td>\n",
       "      <td>Sliced Ham, Pineapple, Mozzarella Cheese</td>\n",
       "    </tr>\n",
       "    <tr>\n",
       "      <th>1</th>\n",
       "      <td>2</td>\n",
       "      <td>2015-01-01</td>\n",
       "      <td>11:57:40</td>\n",
       "      <td>2</td>\n",
       "      <td>classic_dlx_m</td>\n",
       "      <td>1</td>\n",
       "      <td>classic_dlx</td>\n",
       "      <td>M</td>\n",
       "      <td>16.00</td>\n",
       "      <td>The Classic Deluxe Pizza</td>\n",
       "      <td>Classic</td>\n",
       "      <td>Pepperoni, Mushrooms, Red Onions, Red Peppers,...</td>\n",
       "    </tr>\n",
       "    <tr>\n",
       "      <th>2</th>\n",
       "      <td>2</td>\n",
       "      <td>2015-01-01</td>\n",
       "      <td>11:57:40</td>\n",
       "      <td>3</td>\n",
       "      <td>five_cheese_l</td>\n",
       "      <td>1</td>\n",
       "      <td>five_cheese</td>\n",
       "      <td>L</td>\n",
       "      <td>18.50</td>\n",
       "      <td>The Five Cheese Pizza</td>\n",
       "      <td>Veggie</td>\n",
       "      <td>Mozzarella Cheese, Provolone Cheese, Smoked Go...</td>\n",
       "    </tr>\n",
       "    <tr>\n",
       "      <th>3</th>\n",
       "      <td>2</td>\n",
       "      <td>2015-01-01</td>\n",
       "      <td>11:57:40</td>\n",
       "      <td>4</td>\n",
       "      <td>ital_supr_l</td>\n",
       "      <td>1</td>\n",
       "      <td>ital_supr</td>\n",
       "      <td>L</td>\n",
       "      <td>20.75</td>\n",
       "      <td>The Italian Supreme Pizza</td>\n",
       "      <td>Supreme</td>\n",
       "      <td>Calabrese Salami, Capocollo, Tomatoes, Red Oni...</td>\n",
       "    </tr>\n",
       "    <tr>\n",
       "      <th>4</th>\n",
       "      <td>2</td>\n",
       "      <td>2015-01-01</td>\n",
       "      <td>11:57:40</td>\n",
       "      <td>5</td>\n",
       "      <td>mexicana_m</td>\n",
       "      <td>1</td>\n",
       "      <td>mexicana</td>\n",
       "      <td>M</td>\n",
       "      <td>16.00</td>\n",
       "      <td>The Mexicana Pizza</td>\n",
       "      <td>Veggie</td>\n",
       "      <td>Tomatoes, Red Peppers, Jalapeno Peppers, Red O...</td>\n",
       "    </tr>\n",
       "    <tr>\n",
       "      <th>...</th>\n",
       "      <td>...</td>\n",
       "      <td>...</td>\n",
       "      <td>...</td>\n",
       "      <td>...</td>\n",
       "      <td>...</td>\n",
       "      <td>...</td>\n",
       "      <td>...</td>\n",
       "      <td>...</td>\n",
       "      <td>...</td>\n",
       "      <td>...</td>\n",
       "      <td>...</td>\n",
       "      <td>...</td>\n",
       "    </tr>\n",
       "    <tr>\n",
       "      <th>48615</th>\n",
       "      <td>21348</td>\n",
       "      <td>2015-12-31</td>\n",
       "      <td>21:23:10</td>\n",
       "      <td>48616</td>\n",
       "      <td>ckn_alfredo_m</td>\n",
       "      <td>1</td>\n",
       "      <td>ckn_alfredo</td>\n",
       "      <td>M</td>\n",
       "      <td>16.75</td>\n",
       "      <td>The Chicken Alfredo Pizza</td>\n",
       "      <td>Chicken</td>\n",
       "      <td>Chicken, Red Onions, Red Peppers, Mushrooms, A...</td>\n",
       "    </tr>\n",
       "    <tr>\n",
       "      <th>48616</th>\n",
       "      <td>21348</td>\n",
       "      <td>2015-12-31</td>\n",
       "      <td>21:23:10</td>\n",
       "      <td>48617</td>\n",
       "      <td>four_cheese_l</td>\n",
       "      <td>1</td>\n",
       "      <td>four_cheese</td>\n",
       "      <td>L</td>\n",
       "      <td>17.95</td>\n",
       "      <td>The Four Cheese Pizza</td>\n",
       "      <td>Veggie</td>\n",
       "      <td>Ricotta Cheese, Gorgonzola Piccante Cheese, Mo...</td>\n",
       "    </tr>\n",
       "    <tr>\n",
       "      <th>48617</th>\n",
       "      <td>21348</td>\n",
       "      <td>2015-12-31</td>\n",
       "      <td>21:23:10</td>\n",
       "      <td>48618</td>\n",
       "      <td>napolitana_s</td>\n",
       "      <td>1</td>\n",
       "      <td>napolitana</td>\n",
       "      <td>S</td>\n",
       "      <td>12.00</td>\n",
       "      <td>The Napolitana Pizza</td>\n",
       "      <td>Classic</td>\n",
       "      <td>Tomatoes, Anchovies, Green Olives, Red Onions,...</td>\n",
       "    </tr>\n",
       "    <tr>\n",
       "      <th>48618</th>\n",
       "      <td>21349</td>\n",
       "      <td>2015-12-31</td>\n",
       "      <td>22:09:54</td>\n",
       "      <td>48619</td>\n",
       "      <td>mexicana_l</td>\n",
       "      <td>1</td>\n",
       "      <td>mexicana</td>\n",
       "      <td>L</td>\n",
       "      <td>20.25</td>\n",
       "      <td>The Mexicana Pizza</td>\n",
       "      <td>Veggie</td>\n",
       "      <td>Tomatoes, Red Peppers, Jalapeno Peppers, Red O...</td>\n",
       "    </tr>\n",
       "    <tr>\n",
       "      <th>48619</th>\n",
       "      <td>21350</td>\n",
       "      <td>2015-12-31</td>\n",
       "      <td>23:02:05</td>\n",
       "      <td>48620</td>\n",
       "      <td>bbq_ckn_s</td>\n",
       "      <td>1</td>\n",
       "      <td>bbq_ckn</td>\n",
       "      <td>S</td>\n",
       "      <td>12.75</td>\n",
       "      <td>The Barbecue Chicken Pizza</td>\n",
       "      <td>Chicken</td>\n",
       "      <td>Barbecued Chicken, Red Peppers, Green Peppers,...</td>\n",
       "    </tr>\n",
       "  </tbody>\n",
       "</table>\n",
       "<p>48620 rows × 12 columns</p>\n",
       "</div>"
      ],
      "text/plain": [
       "       order_id        date      time  order_details_id       pizza_id  \\\n",
       "0             1  2015-01-01  11:38:36                 1     hawaiian_m   \n",
       "1             2  2015-01-01  11:57:40                 2  classic_dlx_m   \n",
       "2             2  2015-01-01  11:57:40                 3  five_cheese_l   \n",
       "3             2  2015-01-01  11:57:40                 4    ital_supr_l   \n",
       "4             2  2015-01-01  11:57:40                 5     mexicana_m   \n",
       "...         ...         ...       ...               ...            ...   \n",
       "48615     21348  2015-12-31  21:23:10             48616  ckn_alfredo_m   \n",
       "48616     21348  2015-12-31  21:23:10             48617  four_cheese_l   \n",
       "48617     21348  2015-12-31  21:23:10             48618   napolitana_s   \n",
       "48618     21349  2015-12-31  22:09:54             48619     mexicana_l   \n",
       "48619     21350  2015-12-31  23:02:05             48620      bbq_ckn_s   \n",
       "\n",
       "       quantity pizza_type_id size  price                        name  \\\n",
       "0             1      hawaiian    M  13.25          The Hawaiian Pizza   \n",
       "1             1   classic_dlx    M  16.00    The Classic Deluxe Pizza   \n",
       "2             1   five_cheese    L  18.50       The Five Cheese Pizza   \n",
       "3             1     ital_supr    L  20.75   The Italian Supreme Pizza   \n",
       "4             1      mexicana    M  16.00          The Mexicana Pizza   \n",
       "...         ...           ...  ...    ...                         ...   \n",
       "48615         1   ckn_alfredo    M  16.75   The Chicken Alfredo Pizza   \n",
       "48616         1   four_cheese    L  17.95       The Four Cheese Pizza   \n",
       "48617         1    napolitana    S  12.00        The Napolitana Pizza   \n",
       "48618         1      mexicana    L  20.25          The Mexicana Pizza   \n",
       "48619         1       bbq_ckn    S  12.75  The Barbecue Chicken Pizza   \n",
       "\n",
       "      category                                        ingredients  \n",
       "0      Classic           Sliced Ham, Pineapple, Mozzarella Cheese  \n",
       "1      Classic  Pepperoni, Mushrooms, Red Onions, Red Peppers,...  \n",
       "2       Veggie  Mozzarella Cheese, Provolone Cheese, Smoked Go...  \n",
       "3      Supreme  Calabrese Salami, Capocollo, Tomatoes, Red Oni...  \n",
       "4       Veggie  Tomatoes, Red Peppers, Jalapeno Peppers, Red O...  \n",
       "...        ...                                                ...  \n",
       "48615  Chicken  Chicken, Red Onions, Red Peppers, Mushrooms, A...  \n",
       "48616   Veggie  Ricotta Cheese, Gorgonzola Piccante Cheese, Mo...  \n",
       "48617  Classic  Tomatoes, Anchovies, Green Olives, Red Onions,...  \n",
       "48618   Veggie  Tomatoes, Red Peppers, Jalapeno Peppers, Red O...  \n",
       "48619  Chicken  Barbecued Chicken, Red Peppers, Green Peppers,...  \n",
       "\n",
       "[48620 rows x 12 columns]"
      ]
     },
     "execution_count": 12,
     "metadata": {},
     "output_type": "execute_result"
    }
   ],
   "source": [
    "Merged_data_final=pd.merge(Merged_order_and_order_details,Merged_pizza_and_pizza_type,on='pizza_id')\n",
    "Merged_data_final"
   ]
  },
  {
   "cell_type": "markdown",
   "id": "3e30849c",
   "metadata": {},
   "source": [
    "**DROPPING UNWANTED COLUMNS**"
   ]
  },
  {
   "cell_type": "code",
   "execution_count": 13,
   "id": "2cfa05e9",
   "metadata": {},
   "outputs": [],
   "source": [
    "Merged_data_final=Merged_data_final.drop(['order_details_id'],axis=1,inplace=False)#droping the order_details_id column from the Merged final data"
   ]
  },
  {
   "cell_type": "code",
   "execution_count": 14,
   "id": "62cb14f5",
   "metadata": {},
   "outputs": [],
   "source": [
    "Merged_data_final= Merged_data_final.drop(['pizza_type_id'],axis=1,inplace=False)#droping the order_details_id column from the Merged final data"
   ]
  },
  {
   "cell_type": "code",
   "execution_count": 15,
   "id": "1a5bbc0a",
   "metadata": {},
   "outputs": [
    {
     "data": {
      "application/vnd.microsoft.datawrangler.viewer.v0+json": {
       "columns": [
        {
         "name": "index",
         "rawType": "int64",
         "type": "integer"
        },
        {
         "name": "order_id",
         "rawType": "int64",
         "type": "integer"
        },
        {
         "name": "date",
         "rawType": "object",
         "type": "string"
        },
        {
         "name": "time",
         "rawType": "object",
         "type": "string"
        },
        {
         "name": "pizza_id",
         "rawType": "object",
         "type": "string"
        },
        {
         "name": "quantity",
         "rawType": "int64",
         "type": "integer"
        },
        {
         "name": "size",
         "rawType": "object",
         "type": "string"
        },
        {
         "name": "price",
         "rawType": "float64",
         "type": "float"
        },
        {
         "name": "name",
         "rawType": "object",
         "type": "string"
        },
        {
         "name": "category",
         "rawType": "object",
         "type": "string"
        },
        {
         "name": "ingredients",
         "rawType": "object",
         "type": "string"
        }
       ],
       "conversionMethod": "pd.DataFrame",
       "ref": "533eb62b-6d49-4859-8aca-4cff4bc58605",
       "rows": [
        [
         "0",
         "1",
         "2015-01-01",
         "11:38:36",
         "hawaiian_m",
         "1",
         "M",
         "13.25",
         "The Hawaiian Pizza",
         "Classic",
         "Sliced Ham, Pineapple, Mozzarella Cheese"
        ],
        [
         "1",
         "2",
         "2015-01-01",
         "11:57:40",
         "classic_dlx_m",
         "1",
         "M",
         "16.0",
         "The Classic Deluxe Pizza",
         "Classic",
         "Pepperoni, Mushrooms, Red Onions, Red Peppers, Bacon"
        ],
        [
         "2",
         "2",
         "2015-01-01",
         "11:57:40",
         "five_cheese_l",
         "1",
         "L",
         "18.5",
         "The Five Cheese Pizza",
         "Veggie",
         "Mozzarella Cheese, Provolone Cheese, Smoked Gouda Cheese, Romano Cheese, Blue Cheese, Garlic"
        ],
        [
         "3",
         "2",
         "2015-01-01",
         "11:57:40",
         "ital_supr_l",
         "1",
         "L",
         "20.75",
         "The Italian Supreme Pizza",
         "Supreme",
         "Calabrese Salami, Capocollo, Tomatoes, Red Onions, Green Olives, Garlic"
        ],
        [
         "4",
         "2",
         "2015-01-01",
         "11:57:40",
         "mexicana_m",
         "1",
         "M",
         "16.0",
         "The Mexicana Pizza",
         "Veggie",
         "Tomatoes, Red Peppers, Jalapeno Peppers, Red Onions, Cilantro, Corn, Chipotle Sauce, Garlic"
        ]
       ],
       "shape": {
        "columns": 10,
        "rows": 5
       }
      },
      "text/html": [
       "<div>\n",
       "<style scoped>\n",
       "    .dataframe tbody tr th:only-of-type {\n",
       "        vertical-align: middle;\n",
       "    }\n",
       "\n",
       "    .dataframe tbody tr th {\n",
       "        vertical-align: top;\n",
       "    }\n",
       "\n",
       "    .dataframe thead th {\n",
       "        text-align: right;\n",
       "    }\n",
       "</style>\n",
       "<table border=\"1\" class=\"dataframe\">\n",
       "  <thead>\n",
       "    <tr style=\"text-align: right;\">\n",
       "      <th></th>\n",
       "      <th>order_id</th>\n",
       "      <th>date</th>\n",
       "      <th>time</th>\n",
       "      <th>pizza_id</th>\n",
       "      <th>quantity</th>\n",
       "      <th>size</th>\n",
       "      <th>price</th>\n",
       "      <th>name</th>\n",
       "      <th>category</th>\n",
       "      <th>ingredients</th>\n",
       "    </tr>\n",
       "  </thead>\n",
       "  <tbody>\n",
       "    <tr>\n",
       "      <th>0</th>\n",
       "      <td>1</td>\n",
       "      <td>2015-01-01</td>\n",
       "      <td>11:38:36</td>\n",
       "      <td>hawaiian_m</td>\n",
       "      <td>1</td>\n",
       "      <td>M</td>\n",
       "      <td>13.25</td>\n",
       "      <td>The Hawaiian Pizza</td>\n",
       "      <td>Classic</td>\n",
       "      <td>Sliced Ham, Pineapple, Mozzarella Cheese</td>\n",
       "    </tr>\n",
       "    <tr>\n",
       "      <th>1</th>\n",
       "      <td>2</td>\n",
       "      <td>2015-01-01</td>\n",
       "      <td>11:57:40</td>\n",
       "      <td>classic_dlx_m</td>\n",
       "      <td>1</td>\n",
       "      <td>M</td>\n",
       "      <td>16.00</td>\n",
       "      <td>The Classic Deluxe Pizza</td>\n",
       "      <td>Classic</td>\n",
       "      <td>Pepperoni, Mushrooms, Red Onions, Red Peppers,...</td>\n",
       "    </tr>\n",
       "    <tr>\n",
       "      <th>2</th>\n",
       "      <td>2</td>\n",
       "      <td>2015-01-01</td>\n",
       "      <td>11:57:40</td>\n",
       "      <td>five_cheese_l</td>\n",
       "      <td>1</td>\n",
       "      <td>L</td>\n",
       "      <td>18.50</td>\n",
       "      <td>The Five Cheese Pizza</td>\n",
       "      <td>Veggie</td>\n",
       "      <td>Mozzarella Cheese, Provolone Cheese, Smoked Go...</td>\n",
       "    </tr>\n",
       "    <tr>\n",
       "      <th>3</th>\n",
       "      <td>2</td>\n",
       "      <td>2015-01-01</td>\n",
       "      <td>11:57:40</td>\n",
       "      <td>ital_supr_l</td>\n",
       "      <td>1</td>\n",
       "      <td>L</td>\n",
       "      <td>20.75</td>\n",
       "      <td>The Italian Supreme Pizza</td>\n",
       "      <td>Supreme</td>\n",
       "      <td>Calabrese Salami, Capocollo, Tomatoes, Red Oni...</td>\n",
       "    </tr>\n",
       "    <tr>\n",
       "      <th>4</th>\n",
       "      <td>2</td>\n",
       "      <td>2015-01-01</td>\n",
       "      <td>11:57:40</td>\n",
       "      <td>mexicana_m</td>\n",
       "      <td>1</td>\n",
       "      <td>M</td>\n",
       "      <td>16.00</td>\n",
       "      <td>The Mexicana Pizza</td>\n",
       "      <td>Veggie</td>\n",
       "      <td>Tomatoes, Red Peppers, Jalapeno Peppers, Red O...</td>\n",
       "    </tr>\n",
       "  </tbody>\n",
       "</table>\n",
       "</div>"
      ],
      "text/plain": [
       "   order_id        date      time       pizza_id  quantity size  price  \\\n",
       "0         1  2015-01-01  11:38:36     hawaiian_m         1    M  13.25   \n",
       "1         2  2015-01-01  11:57:40  classic_dlx_m         1    M  16.00   \n",
       "2         2  2015-01-01  11:57:40  five_cheese_l         1    L  18.50   \n",
       "3         2  2015-01-01  11:57:40    ital_supr_l         1    L  20.75   \n",
       "4         2  2015-01-01  11:57:40     mexicana_m         1    M  16.00   \n",
       "\n",
       "                        name category  \\\n",
       "0         The Hawaiian Pizza  Classic   \n",
       "1   The Classic Deluxe Pizza  Classic   \n",
       "2      The Five Cheese Pizza   Veggie   \n",
       "3  The Italian Supreme Pizza  Supreme   \n",
       "4         The Mexicana Pizza   Veggie   \n",
       "\n",
       "                                         ingredients  \n",
       "0           Sliced Ham, Pineapple, Mozzarella Cheese  \n",
       "1  Pepperoni, Mushrooms, Red Onions, Red Peppers,...  \n",
       "2  Mozzarella Cheese, Provolone Cheese, Smoked Go...  \n",
       "3  Calabrese Salami, Capocollo, Tomatoes, Red Oni...  \n",
       "4  Tomatoes, Red Peppers, Jalapeno Peppers, Red O...  "
      ]
     },
     "execution_count": 15,
     "metadata": {},
     "output_type": "execute_result"
    }
   ],
   "source": [
    "Merged_data_final.head()"
   ]
  },
  {
   "cell_type": "code",
   "execution_count": 16,
   "id": "4a913cd4",
   "metadata": {},
   "outputs": [
    {
     "name": "stdout",
     "output_type": "stream",
     "text": [
      "<class 'pandas.core.frame.DataFrame'>\n",
      "RangeIndex: 48620 entries, 0 to 48619\n",
      "Data columns (total 10 columns):\n",
      " #   Column       Non-Null Count  Dtype  \n",
      "---  ------       --------------  -----  \n",
      " 0   order_id     48620 non-null  int64  \n",
      " 1   date         48620 non-null  object \n",
      " 2   time         48620 non-null  object \n",
      " 3   pizza_id     48620 non-null  object \n",
      " 4   quantity     48620 non-null  int64  \n",
      " 5   size         48620 non-null  object \n",
      " 6   price        48620 non-null  float64\n",
      " 7   name         48620 non-null  object \n",
      " 8   category     48620 non-null  object \n",
      " 9   ingredients  48620 non-null  object \n",
      "dtypes: float64(1), int64(2), object(7)\n",
      "memory usage: 3.7+ MB\n"
     ]
    }
   ],
   "source": [
    "Merged_data_final.info()"
   ]
  },
  {
   "cell_type": "markdown",
   "id": "5645cfe2",
   "metadata": {},
   "source": [
    "**TOTAL REVENUE**"
   ]
  },
  {
   "cell_type": "code",
   "execution_count": 17,
   "id": "5c238307",
   "metadata": {},
   "outputs": [
    {
     "data": {
      "text/plain": [
       "np.float64(817860.05)"
      ]
     },
     "execution_count": 17,
     "metadata": {},
     "output_type": "execute_result"
    }
   ],
   "source": [
    "Total_Sales= Merged_data_final['quantity'] * Merged_data_final['price']\n",
    "Total_Sales.sum()"
   ]
  },
  {
   "cell_type": "code",
   "execution_count": 18,
   "id": "0580b7d9",
   "metadata": {},
   "outputs": [],
   "source": [
    "Merged_data_final.insert(1,'TOTAL SALES',Total_Sales)#Inserting Total sales in the table"
   ]
  },
  {
   "cell_type": "markdown",
   "id": "6da8bbfd",
   "metadata": {},
   "source": [
    "**TOTAL QUANTITY SOLD**"
   ]
  },
  {
   "cell_type": "code",
   "execution_count": 19,
   "id": "7c1f8151",
   "metadata": {},
   "outputs": [
    {
     "name": "stdout",
     "output_type": "stream",
     "text": [
      "TOTAL QUANTITY SOLD:$49574\n"
     ]
    }
   ],
   "source": [
    "Total_Quantity_Sold=Merged_data_final['quantity'].sum()\n",
    "Total_Quantity_Sold\n",
    "print(f\"TOTAL QUANTITY SOLD:${Total_Quantity_Sold}\")"
   ]
  },
  {
   "cell_type": "markdown",
   "id": "e17150f4",
   "metadata": {},
   "source": [
    "**TOTAL ORDERS**"
   ]
  },
  {
   "cell_type": "code",
   "execution_count": 20,
   "id": "50d17626",
   "metadata": {},
   "outputs": [
    {
     "name": "stdout",
     "output_type": "stream",
     "text": [
      "TOTAL ORDERS: 21350\n"
     ]
    }
   ],
   "source": [
    "Total_Orders=Merged_data_final['order_id'].nunique()\n",
    "Total_Orders\n",
    "print(f\"TOTAL ORDERS: {Total_Orders}\")"
   ]
  },
  {
   "cell_type": "markdown",
   "id": "60ad98e3",
   "metadata": {},
   "source": [
    "**TOP 5 BESTSELLING PIZZAS**"
   ]
  },
  {
   "cell_type": "code",
   "execution_count": 21,
   "id": "bedf5bac",
   "metadata": {},
   "outputs": [
    {
     "data": {
      "text/plain": [
       "name\n",
       "The Classic Deluxe Pizza      2453\n",
       "The Barbecue Chicken Pizza    2432\n",
       "The Hawaiian Pizza            2422\n",
       "The Pepperoni Pizza           2418\n",
       "The Thai Chicken Pizza        2371\n",
       "Name: quantity, dtype: int64"
      ]
     },
     "execution_count": 21,
     "metadata": {},
     "output_type": "execute_result"
    }
   ],
   "source": [
    "Best_Selling_Pizza=Merged_data_final.groupby('name')['quantity'].sum().sort_values(ascending=False).head(5)\n",
    "Best_Selling_Pizza #Top 5 best selling pizzas by Quantity sold"
   ]
  },
  {
   "cell_type": "code",
   "execution_count": 31,
   "id": "9898894f",
   "metadata": {},
   "outputs": [
    {
     "data": {
      "text/plain": [
       "<function matplotlib.pyplot.show(close=None, block=None)>"
      ]
     },
     "execution_count": 31,
     "metadata": {},
     "output_type": "execute_result"
    },
    {
     "data": {
      "image/png": "[encoded data removed]",
      "text/plain": [
       "<Figure size 640x480 with 1 Axes>"
      ]
     },
     "metadata": {},
     "output_type": "display_data"
    }
   ],
   "source": [
    "plt.bar(Best_Selling_Pizza.index,Best_Selling_Pizza.values)\n",
    "plt.xticks(rotation=45)\n",
    "plt.title('TOP 5 BEST SELLING PIZZA')\n",
    "plt.show"
   ]
  },
  {
   "cell_type": "markdown",
   "id": "61915f9a",
   "metadata": {},
   "source": [
    "**INSIGHT**\n",
    "\n",
    "Each of the top 5 best selling pizza sold out more than 2000 pizzas.\n",
    "Which shows that marketing and promotion should be focused more on the top 5 best selling pizza  "
   ]
  },
  {
   "cell_type": "markdown",
   "id": "38829471",
   "metadata": {},
   "source": [
    "**TRENDS OF SALES IN EACH MONTH**"
   ]
  },
  {
   "cell_type": "code",
   "execution_count": 23,
   "id": "9be946f1",
   "metadata": {},
   "outputs": [],
   "source": [
    "Merged_data_final['date']=pd.to_datetime(Merged_data_final['date'])"
   ]
  },
  {
   "cell_type": "code",
   "execution_count": 24,
   "id": "81a836c4",
   "metadata": {},
   "outputs": [
    {
     "data": {
      "text/plain": [
       "month\n",
       "2015-01    69793.30\n",
       "2015-02    65159.60\n",
       "2015-03    70397.10\n",
       "2015-04    68736.80\n",
       "2015-05    71402.75\n",
       "2015-06    68230.20\n",
       "2015-07    72557.90\n",
       "2015-08    68278.25\n",
       "2015-09    64180.05\n",
       "2015-10    64027.60\n",
       "2015-11    70395.35\n",
       "2015-12    64701.15\n",
       "Freq: M, Name: TOTAL SALES, dtype: float64"
      ]
     },
     "execution_count": 24,
     "metadata": {},
     "output_type": "execute_result"
    }
   ],
   "source": [
    "Merged_data_final['month']=Merged_data_final['date'].dt.to_period('M')\n",
    "Monthly_Sales=Merged_data_final.groupby('month')['TOTAL SALES'].sum().sort_index()\n",
    "(Monthly_Sales)"
   ]
  },
  {
   "cell_type": "code",
   "execution_count": 25,
   "id": "4b1664bf",
   "metadata": {},
   "outputs": [
    {
     "data": {
      "text/plain": [
       "<Axes: xlabel='month'>"
      ]
     },
     "execution_count": 25,
     "metadata": {},
     "output_type": "execute_result"
    },
    {
     "data": {
      "image/png": "[encoded data removed]",
      "text/plain": [
       "<Figure size 640x480 with 1 Axes>"
      ]
     },
     "metadata": {},
     "output_type": "display_data"
    }
   ],
   "source": [
    "Monthly_Sales.plot(kind='line')"
   ]
  },
  {
   "cell_type": "markdown",
   "id": "0ba305c5",
   "metadata": {},
   "source": [
    "**INSIGHT**\n",
    "\n",
    "It shows that the monthly sales of pizza was at itS PEAK at JULY but decline drastically when it was in DECEMBER.The plot tells us that sales has been much of ups and down.\n",
    "\n",
    "Which means social media can be leverage to some extent and both new and old custmer should be given discount "
   ]
  },
  {
   "cell_type": "code",
   "execution_count": null,
   "id": "087fcf68",
   "metadata": {},
   "outputs": [],
   "source": []
  },
  {
   "cell_type": "markdown",
   "id": "c7c7e2d3",
   "metadata": {},
   "source": [
    "**MOST CONSUMED PIZZA CATEGORIES**"
   ]
  },
  {
   "cell_type": "code",
   "execution_count": 26,
   "id": "aea80291",
   "metadata": {},
   "outputs": [
    {
     "data": {
      "text/plain": [
       "category\n",
       "Classic    220053.10\n",
       "Supreme    208197.00\n",
       "Chicken    195919.50\n",
       "Veggie     193690.45\n",
       "Name: TOTAL SALES, dtype: float64"
      ]
     },
     "execution_count": 26,
     "metadata": {},
     "output_type": "execute_result"
    }
   ],
   "source": [
    "Most_consumed_pizza_categories= Merged_data_final.groupby('category')['TOTAL SALES'].sum().sort_values(ascending=False)\n",
    "Most_consumed_pizza_categories"
   ]
  },
  {
   "cell_type": "code",
   "execution_count": 32,
   "id": "051def93",
   "metadata": {},
   "outputs": [
    {
     "data": {
      "text/plain": [
       "<function matplotlib.pyplot.show(close=None, block=None)>"
      ]
     },
     "execution_count": 32,
     "metadata": {},
     "output_type": "execute_result"
    },
    {
     "data": {
      "image/png": "[encoded data removed]",
      "text/plain": [
       "<Figure size 640x480 with 1 Axes>"
      ]
     },
     "metadata": {},
     "output_type": "display_data"
    }
   ],
   "source": [
    "plt.bar(Most_consumed_pizza_categories.index,Most_consumed_pizza_categories.values)\n",
    "plt.title('MOST CONSUMED PIZZA CATEGORIES')\n",
    "plt.show"
   ]
  },
  {
   "cell_type": "markdown",
   "id": "1d296de3",
   "metadata": {},
   "source": [
    "**INSIGHT**\n",
    "\n",
    "These shows that the most preffered categories of pizza \n",
    "Which means that the ingredients for this categories should be the stocked up regularly\n",
    "\n"
   ]
  },
  {
   "cell_type": "markdown",
   "id": "2391321e",
   "metadata": {},
   "source": [
    "**UNDERPERFORMING PIZZA**"
   ]
  },
  {
   "cell_type": "code",
   "execution_count": null,
   "id": "5b71dbf6",
   "metadata": {},
   "outputs": [
    {
     "data": {
      "text/plain": [
       "name\n",
       "The Brie Carre Pizza            490\n",
       "The Mediterranean Pizza         934\n",
       "The Calabrese Pizza             937\n",
       "The Spinach Supreme Pizza       950\n",
       "The Soppressata Pizza           961\n",
       "The Spinach Pesto Pizza         970\n",
       "The Chicken Pesto Pizza         973\n",
       "The Italian Vegetables Pizza    981\n",
       "The Chicken Alfredo Pizza       987\n",
       "The Green Garden Pizza          997\n",
       "Name: quantity, dtype: int64"
      ]
     },
     "execution_count": 35,
     "metadata": {},
     "output_type": "execute_result"
    }
   ],
   "source": [
    "Underperforming_pizza= Merged_data_final.groupby('name')['quantity'].sum().nsmallest(10)\n",
    "Underperforming_pizza"
   ]
  },
  {
   "cell_type": "code",
   "execution_count": 47,
   "id": "ca1bf11e",
   "metadata": {},
   "outputs": [
    {
     "data": {
      "text/plain": [
       "<function matplotlib.pyplot.show(close=None, block=None)>"
      ]
     },
     "execution_count": 47,
     "metadata": {},
     "output_type": "execute_result"
    },
    {
     "data": {
      "image/png": "[encoded data removed]",
      "text/plain": [
       "<Figure size 640x480 with 1 Axes>"
      ]
     },
     "metadata": {},
     "output_type": "display_data"
    }
   ],
   "source": [
    "plt.barh(Underperforming_pizza.index,Underperforming_pizza.values,color='Brown')\n",
    "plt.title('UNDERPERFORMING PIZZA')\n",
    "plt.show"
   ]
  }
 ],
 "metadata": {
  "kernelspec": {
   "display_name": "Python 3",
   "language": "python",
   "name": "python3"
  },
  "language_info": {
   "codemirror_mode": {
    "name": "ipython",
    "version": 3
   },
   "file_extension": ".py",
   "mimetype": "text/x-python",
   "name": "python",
   "nbconvert_exporter": "python",
   "pygments_lexer": "ipython3",
   "version": "3.13.2"
  }
 },
 "nbformat": 4,
 "nbformat_minor": 5
}
